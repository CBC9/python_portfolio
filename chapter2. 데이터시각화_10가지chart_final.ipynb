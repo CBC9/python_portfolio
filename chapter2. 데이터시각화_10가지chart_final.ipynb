{
 "cells": [
  {
   "cell_type": "code",
   "execution_count": 1,
   "metadata": {},
   "outputs": [
    {
     "data": {
      "text/plain": [
       "'C:\\\\Users\\\\USER\\\\Desktop\\\\아카이브\\\\마라톤데이터_ch2.시각화'"
      ]
     },
     "execution_count": 1,
     "metadata": {},
     "output_type": "execute_result"
    }
   ],
   "source": [
    "pwd"
   ]
  },
  {
   "cell_type": "raw",
   "metadata": {},
   "source": [
    "차트 종류\n",
    "1. Column/Bar chart\n",
    "2. Dural Axis, 파레토 chart\n",
    "3. Pie chart\n",
    "4. Line chart\n",
    "5. Scatter chart\n",
    "6. Bubble chart\n",
    "7. Heat map\n",
    "8. Histogram\n",
    "9. Box plot\n",
    "10. Geo chart"
   ]
  },
  {
   "cell_type": "code",
   "execution_count": 7,
   "metadata": {},
   "outputs": [],
   "source": [
    "# 필요한 라이브러리 임포트\n",
    "import pandas as pd\n",
    "import numpy as np\n",
    "\n",
    "import matplotlib.pyplot as plt\n",
    "import seaborn as sns"
   ]
  },
  {
   "cell_type": "markdown",
   "metadata": {},
   "source": [
    "# 1. column 차트"
   ]
  },
  {
   "cell_type": "markdown",
   "metadata": {},
   "source": [
    "### part1. 참가자 많은 나이 순서대로 column chart 그리기"
   ]
  },
  {
   "cell_type": "code",
   "execution_count": 10,
   "metadata": {},
   "outputs": [],
   "source": [
    "marathon_2015_2017 = pd.read_csv('data/marathon_2015_2017.csv')"
   ]
  },
  {
   "cell_type": "code",
   "execution_count": 11,
   "metadata": {},
   "outputs": [],
   "source": [
    "# 미국인 데이터만 가져오기 . 변수만들고 저장\n",
    "USA_runner = marathon_2015_2017[marathon_2015_2017.Country == 'USA']"
   ]
  },
  {
   "cell_type": "code",
   "execution_count": 12,
   "metadata": {},
   "outputs": [
    {
     "name": "stdout",
     "output_type": "stream",
     "text": [
      "(64474, 21)\n"
     ]
    },
    {
     "data": {
      "text/html": [
       "<div>\n",
       "<style scoped>\n",
       "    .dataframe tbody tr th:only-of-type {\n",
       "        vertical-align: middle;\n",
       "    }\n",
       "\n",
       "    .dataframe tbody tr th {\n",
       "        vertical-align: top;\n",
       "    }\n",
       "\n",
       "    .dataframe thead th {\n",
       "        text-align: right;\n",
       "    }\n",
       "</style>\n",
       "<table border=\"1\" class=\"dataframe\">\n",
       "  <thead>\n",
       "    <tr style=\"text-align: right;\">\n",
       "      <th></th>\n",
       "      <th>Name</th>\n",
       "      <th>Age</th>\n",
       "      <th>M/F</th>\n",
       "      <th>City</th>\n",
       "      <th>State</th>\n",
       "      <th>Country</th>\n",
       "      <th>5K</th>\n",
       "      <th>10K</th>\n",
       "      <th>15K</th>\n",
       "      <th>20K</th>\n",
       "      <th>...</th>\n",
       "      <th>25K</th>\n",
       "      <th>30K</th>\n",
       "      <th>35K</th>\n",
       "      <th>40K</th>\n",
       "      <th>Pace</th>\n",
       "      <th>Official Time</th>\n",
       "      <th>Overall</th>\n",
       "      <th>Gender</th>\n",
       "      <th>Division</th>\n",
       "      <th>Year</th>\n",
       "    </tr>\n",
       "  </thead>\n",
       "  <tbody>\n",
       "    <tr>\n",
       "      <th>6</th>\n",
       "      <td>Ritzenhein, Dathan</td>\n",
       "      <td>32</td>\n",
       "      <td>M</td>\n",
       "      <td>Rockford</td>\n",
       "      <td>MI</td>\n",
       "      <td>USA</td>\n",
       "      <td>885</td>\n",
       "      <td>1785</td>\n",
       "      <td>2720</td>\n",
       "      <td>3643</td>\n",
       "      <td>...</td>\n",
       "      <td>4565</td>\n",
       "      <td>5519</td>\n",
       "      <td>6486</td>\n",
       "      <td>7445</td>\n",
       "      <td>301</td>\n",
       "      <td>7880</td>\n",
       "      <td>7</td>\n",
       "      <td>7</td>\n",
       "      <td>7</td>\n",
       "      <td>2015</td>\n",
       "    </tr>\n",
       "    <tr>\n",
       "      <th>7</th>\n",
       "      <td>Keflezighi, Meb</td>\n",
       "      <td>39</td>\n",
       "      <td>M</td>\n",
       "      <td>San Diego</td>\n",
       "      <td>CA</td>\n",
       "      <td>USA</td>\n",
       "      <td>884</td>\n",
       "      <td>1784</td>\n",
       "      <td>2699</td>\n",
       "      <td>3630</td>\n",
       "      <td>...</td>\n",
       "      <td>4567</td>\n",
       "      <td>5519</td>\n",
       "      <td>6479</td>\n",
       "      <td>7498</td>\n",
       "      <td>304</td>\n",
       "      <td>7962</td>\n",
       "      <td>8</td>\n",
       "      <td>8</td>\n",
       "      <td>8</td>\n",
       "      <td>2015</td>\n",
       "    </tr>\n",
       "    <tr>\n",
       "      <th>10</th>\n",
       "      <td>Tegenkamp, Matt</td>\n",
       "      <td>33</td>\n",
       "      <td>M</td>\n",
       "      <td>Portland</td>\n",
       "      <td>OR</td>\n",
       "      <td>USA</td>\n",
       "      <td>886</td>\n",
       "      <td>1790</td>\n",
       "      <td>2733</td>\n",
       "      <td>3680</td>\n",
       "      <td>...</td>\n",
       "      <td>4628</td>\n",
       "      <td>5592</td>\n",
       "      <td>6592</td>\n",
       "      <td>7615</td>\n",
       "      <td>307</td>\n",
       "      <td>8032</td>\n",
       "      <td>11</td>\n",
       "      <td>11</td>\n",
       "      <td>11</td>\n",
       "      <td>2015</td>\n",
       "    </tr>\n",
       "  </tbody>\n",
       "</table>\n",
       "<p>3 rows × 21 columns</p>\n",
       "</div>"
      ],
      "text/plain": [
       "                  Name  Age M/F       City State Country   5K   10K   15K  \\\n",
       "6   Ritzenhein, Dathan   32   M   Rockford    MI     USA  885  1785  2720   \n",
       "7      Keflezighi, Meb   39   M  San Diego    CA     USA  884  1784  2699   \n",
       "10     Tegenkamp, Matt   33   M   Portland    OR     USA  886  1790  2733   \n",
       "\n",
       "     20K  ...   25K   30K   35K   40K  Pace  Official Time  Overall  Gender  \\\n",
       "6   3643  ...  4565  5519  6486  7445   301           7880        7       7   \n",
       "7   3630  ...  4567  5519  6479  7498   304           7962        8       8   \n",
       "10  3680  ...  4628  5592  6592  7615   307           8032       11      11   \n",
       "\n",
       "    Division  Year  \n",
       "6          7  2015  \n",
       "7          8  2015  \n",
       "10        11  2015  \n",
       "\n",
       "[3 rows x 21 columns]"
      ]
     },
     "execution_count": 12,
     "metadata": {},
     "output_type": "execute_result"
    }
   ],
   "source": [
    "print(USA_runner.shape)\n",
    "USA_runner.head(3)"
   ]
  },
  {
   "cell_type": "code",
   "execution_count": 13,
   "metadata": {
    "scrolled": true
   },
   "outputs": [
    {
     "name": "stdout",
     "output_type": "stream",
     "text": [
      "<class 'pandas.core.frame.DataFrame'>\n",
      "Int64Index: 64474 entries, 6 to 79637\n",
      "Data columns (total 21 columns):\n",
      " #   Column         Non-Null Count  Dtype \n",
      "---  ------         --------------  ----- \n",
      " 0   Name           64474 non-null  object\n",
      " 1   Age            64474 non-null  int64 \n",
      " 2   M/F            64474 non-null  object\n",
      " 3   City           64474 non-null  object\n",
      " 4   State          64474 non-null  object\n",
      " 5   Country        64474 non-null  object\n",
      " 6   5K             64474 non-null  int64 \n",
      " 7   10K            64474 non-null  int64 \n",
      " 8   15K            64474 non-null  int64 \n",
      " 9   20K            64474 non-null  int64 \n",
      " 10  Half           64474 non-null  int64 \n",
      " 11  25K            64474 non-null  int64 \n",
      " 12  30K            64474 non-null  int64 \n",
      " 13  35K            64474 non-null  int64 \n",
      " 14  40K            64474 non-null  int64 \n",
      " 15  Pace           64474 non-null  int64 \n",
      " 16  Official Time  64474 non-null  int64 \n",
      " 17  Overall        64474 non-null  int64 \n",
      " 18  Gender         64474 non-null  int64 \n",
      " 19  Division       64474 non-null  int64 \n",
      " 20  Year           64474 non-null  int64 \n",
      "dtypes: int64(16), object(5)\n",
      "memory usage: 10.8+ MB\n"
     ]
    }
   ],
   "source": [
    "USA_runner.info()"
   ]
  },
  {
   "cell_type": "markdown",
   "metadata": {},
   "source": [
    "### (1) State 별 runner 수"
   ]
  },
  {
   "cell_type": "code",
   "execution_count": 18,
   "metadata": {},
   "outputs": [
    {
     "data": {
      "image/png": "[encoded data removed]",
      "text/plain": [
       "<Figure size 1440x504 with 1 Axes>"
      ]
     },
     "metadata": {
      "needs_background": "light"
     },
     "output_type": "display_data"
    }
   ],
   "source": [
    "import matplotlib.pyplot as plt\n",
    "import seaborn as sns\n",
    "\n",
    "# column 그래프 그리기(필수)\n",
    "plt.figure(figsize=(20, 7))                                # 그래프 크기\n",
    "runner_state = sns.countplot('State', data=USA_runner)      # 그래프 함수 : sns.countplot() 사용 / \n",
    "\n",
    "#seaborn에 countplot메소드 State로 카운트를 한다라는 뜻\n",
    "\n",
    "# column 그래프 부가 설명(옵션)\n",
    "runner_state.set_title('Number of runner by State - USA', fontsize=25)   # 제목\n",
    "runner_state.set_xlabel('State', fontdict={'size':20})                   # x축 이름\n",
    "runner_state.set_ylabel('Number of runner', fontdict={'size':20})        # y축 이름\n",
    "plt.show()"
   ]
  },
  {
   "cell_type": "markdown",
   "metadata": {},
   "source": [
    "### -> MA주가 가장 참가자 수가 많다. 남/녀 누가 더 많이 참가했을까?"
   ]
  },
  {
   "cell_type": "markdown",
   "metadata": {},
   "source": [
    "### (2) State, Gender 별 runner 수"
   ]
  },
  {
   "cell_type": "code",
   "execution_count": 24,
   "metadata": {},
   "outputs": [
    {
     "data": {
      "image/png": "[encoded data removed]",
      "text/plain": [
       "<Figure size 2520x1080 with 1 Axes>"
      ]
     },
     "metadata": {
      "needs_background": "light"
     },
     "output_type": "display_data"
    }
   ],
   "source": [
    "# column 그래프 그리기(필수)\n",
    "plt.figure(figsize=(35, 15))    # 그래프 크기\n",
    "# hue를 'M/F'로 주자\n",
    "runner_state = sns.countplot('State', data=USA_runner, hue='M/F', palette={'F':'r', 'M':'b'})  # 그래프 함수 : sns.countplot() 사용\n",
    "                                                      # hue : 칼럼명 기준으로 데이터 분해 해줌(값 기준으로 분해)\n",
    "# column 그래프 부가 설명(옵션)\n",
    "runner_state.set_title('Number of runner by State, Gender - USA', fontsize=25)   # 제목\n",
    "runner_state.set_xlabel('State', fontdict={'size':20})                   # x축 이름\n",
    "runner_state.set_ylabel('Number of runner', fontdict={'size':20})        # y축 이름\n",
    "plt.show()"
   ]
  },
  {
   "cell_type": "markdown",
   "metadata": {},
   "source": [
    "### -> MA주는 여성들의 참여가 더 높다"
   ]
  },
  {
   "cell_type": "markdown",
   "metadata": {},
   "source": [
    "### 년도별로 참가자 수를 보고 싶으면?"
   ]
  },
  {
   "cell_type": "markdown",
   "metadata": {},
   "source": [
    "### (3) 년도별 runner 수"
   ]
  },
  {
   "cell_type": "code",
   "execution_count": 25,
   "metadata": {},
   "outputs": [
    {
     "data": {
      "image/png": "[encoded data removed]",
      "text/plain": [
       "<Figure size 1440x720 with 1 Axes>"
      ]
     },
     "metadata": {
      "needs_background": "light"
     },
     "output_type": "display_data"
    }
   ],
   "source": [
    "# column 그래프 그리기(필수)\n",
    "plt.figure(figsize=(20, 10))    # 그래프 크기\n",
    "# hue를 'Year'로 주자\n",
    "runner_state = sns.countplot('State', data=USA_runner, hue='Year')  # 그래프 함수 : sns.countplot() 사용\n",
    "                                                      # hue : 칼럼명 기준으로 데이터 분해 해줌\n",
    "# column 그래프 부가 설명(옵션)\n",
    "runner_state.set_title('Number of runner by State, Year - USA', fontsize=25)   # 제목\n",
    "runner_state.set_xlabel('State', fontdict={'size':20})                   # x축 이름\n",
    "runner_state.set_ylabel('Number of runner', fontdict={'size':20})        # y축 이름\n",
    "plt.show()"
   ]
  },
  {
   "cell_type": "markdown",
   "metadata": {},
   "source": [
    "### -> MA 주는 가장 참여자가 많은 주인데 매년 참가자 수가 줄고 있다. CA 주는 올해 참가자 수가 증가한 것으로 봐서 캠페인을 잘 한 것 같다."
   ]
  },
  {
   "cell_type": "markdown",
   "metadata": {},
   "source": [
    "# 2. Dual Axis, 파레토 차트"
   ]
  },
  {
   "cell_type": "code",
   "execution_count": 60,
   "metadata": {},
   "outputs": [],
   "source": [
    "import pandas as pd\n",
    "import matplotlib.pyplot as plt\n",
    "\n",
    "marathon_2015_2017 = pd.read_csv('data/marathon_2015_2017.csv')"
   ]
  },
  {
   "cell_type": "code",
   "execution_count": 61,
   "metadata": {},
   "outputs": [
    {
     "name": "stdout",
     "output_type": "stream",
     "text": [
      "                        Name  Age M/F          City State Country    5K   10K  \\\n",
      "0             Desisa, Lelisa   25   M          Ambo   NaN     ETH   883  1783   \n",
      "1      Tsegay, Yemane Adhane   30   M   Addis Ababa   NaN     ETH   883  1783   \n",
      "2             Chebet, Wilson   29   M      Marakwet   NaN     KEN   883  1783   \n",
      "3           Kipyego, Bernard   28   M       Eldoret   NaN     KEN   883  1784   \n",
      "4              Korir, Wesley   32   M        Kitale   NaN     KEN   883  1784   \n",
      "...                      ...  ...  ..           ...   ...     ...   ...   ...   \n",
      "79631       Leroy, Stefan M.   25   M       Jupiter    FL     USA  2398  5153   \n",
      "79632         Quinn, Adam H.   19   M       Belmont    MI     USA  2114  4233   \n",
      "79634     Avelino, Andrew R.   25   M  Fayetteville    NC     USA  1923  3933   \n",
      "79635        Hantel, Johanna   57   F       Malvern    PA     USA  3191  6216   \n",
      "79637          Rigsby, Scott   48   M    Alpharetta    GA     USA  2376  4632   \n",
      "\n",
      "        15K    20K  ...    25K    30K    35K    40K  Pace  Official Time  \\\n",
      "0      2697   3629  ...   4567   5520   6479   7359   296           7757   \n",
      "1      2698   3628  ...   4567   5519   6479   7362   298           7788   \n",
      "2      2697   3629  ...   4567   5520   6479   7381   299           7822   \n",
      "3      2701   3629  ...   4567   5520   6483   7427   300           7847   \n",
      "4      2698   3628  ...   4567   5520   6479   7407   300           7849   \n",
      "...     ...    ...  ...    ...    ...    ...    ...   ...            ...   \n",
      "79631  7821  10867  ...  13986  17380  20571  23668   953          24971   \n",
      "79632  6470   9238  ...  14471  16979  19995  24171   972          25473   \n",
      "79634  6737  10181  ...  13819  17401  21228  24861  1000          26219   \n",
      "79635  9156      0  ...  15321  18397  21633  24878  1007          26377   \n",
      "79637  7210  10735  ...  16034  20233  23947  27683  1095          28694   \n",
      "\n",
      "       Overall  Gender  Division  Year  \n",
      "0            1       1         1  2015  \n",
      "1            2       2         2  2015  \n",
      "2            3       3         3  2015  \n",
      "3            4       4         4  2015  \n",
      "4            5       5         5  2015  \n",
      "...        ...     ...       ...   ...  \n",
      "79631    26405   14434      4772  2017  \n",
      "79632    26406   14435      4773  2017  \n",
      "79634    26408   14436      4774  2017  \n",
      "79635    26409   11973       698  2017  \n",
      "79637    26411   14438      2553  2017  \n",
      "\n",
      "[73608 rows x 21 columns]\n"
     ]
    }
   ],
   "source": [
    "#### 18세~59세 데이터만 가져오기 : isin()\n",
    "runner_18_59 = marathon_2015_2017[marathon_2015_2017.Age.isin(range(18, 60))]\n",
    "print(runner_18_59)"
   ]
  },
  {
   "cell_type": "code",
   "execution_count": 62,
   "metadata": {},
   "outputs": [
    {
     "data": {
      "text/plain": [
       "45    3236\n",
       "46    3039\n",
       "40    2734\n",
       "47    2566\n",
       "50    2498\n",
       "41    2494\n",
       "35    2327\n",
       "42    2318\n",
       "48    2277\n",
       "43    2265\n",
       "36    2188\n",
       "38    2128\n",
       "51    2124\n",
       "37    2108\n",
       "39    2101\n",
       "44    2056\n",
       "49    2018\n",
       "52    1930\n",
       "55    1920\n",
       "29    1906\n",
       "30    1849\n",
       "33    1834\n",
       "31    1779\n",
       "28    1758\n",
       "34    1756\n",
       "27    1755\n",
       "53    1730\n",
       "32    1726\n",
       "26    1709\n",
       "25    1539\n",
       "56    1514\n",
       "54    1433\n",
       "24    1301\n",
       "57    1287\n",
       "58    1044\n",
       "23     920\n",
       "59     788\n",
       "22     701\n",
       "21     489\n",
       "20     264\n",
       "19     137\n",
       "18      62\n",
       "Name: Age, dtype: int64"
      ]
     },
     "execution_count": 62,
     "metadata": {},
     "output_type": "execute_result"
    }
   ],
   "source": [
    "#### 18~59세 나이대별로 카운트 : value_counts()\n",
    "runner_18_59_counting = runner_18_59.Age.value_counts()\n",
    "runner_18_59_counting"
   ]
  },
  {
   "cell_type": "markdown",
   "metadata": {},
   "source": [
    "#### x축 : Age 나열"
   ]
  },
  {
   "cell_type": "code",
   "execution_count": 63,
   "metadata": {},
   "outputs": [
    {
     "name": "stdout",
     "output_type": "stream",
     "text": [
      "<class 'numpy.int64'>\n",
      "Int64Index([45, 46, 40, 47, 50, 41, 35, 42, 48, 43, 36, 38, 51, 37, 39, 44, 49,\n",
      "            52, 55, 29, 30, 33, 31, 28, 34, 27, 53, 32, 26, 25, 56, 54, 24, 57,\n",
      "            58, 23, 59, 22, 21, 20, 19, 18],\n",
      "           dtype='int64')\n"
     ]
    }
   ],
   "source": [
    "# X축 값에 나이대 설정\n",
    "x = runner_18_59_counting.index\n",
    "\n",
    "print(type(x[0]))\n",
    "print(x)"
   ]
  },
  {
   "cell_type": "code",
   "execution_count": 64,
   "metadata": {},
   "outputs": [
    {
     "name": "stdout",
     "output_type": "stream",
     "text": [
      "<class 'str'>\n",
      "['45', '46', '40', '47', '50', '41', '35', '42', '48', '43', '36', '38', '51', '37', '39', '44', '49', '52', '55', '29', '30', '33', '31', '28', '34', '27', '53', '32', '26', '25', '56', '54', '24', '57', '58', '23', '59', '22', '21', '20', '19', '18']\n"
     ]
    }
   ],
   "source": [
    "# int값을 str 값으로 바꾸기\n",
    "x = [str(i) for i in x]\n",
    "print(type(x[0]))\n",
    "print(x)"
   ]
  },
  {
   "cell_type": "markdown",
   "metadata": {},
   "source": [
    "#### y축 : 값 나열"
   ]
  },
  {
   "cell_type": "code",
   "execution_count": 65,
   "metadata": {},
   "outputs": [
    {
     "name": "stdout",
     "output_type": "stream",
     "text": [
      "<class 'numpy.int64'>\n",
      "[3236 3039 2734 2566 2498 2494 2327 2318 2277 2265 2188 2128 2124 2108\n",
      " 2101 2056 2018 1930 1920 1906 1849 1834 1779 1758 1756 1755 1730 1726\n",
      " 1709 1539 1514 1433 1301 1287 1044  920  788  701  489  264  137   62]\n"
     ]
    }
   ],
   "source": [
    "y = runner_18_59_counting.values\n",
    "print(type(y[0]))\n",
    "print(y)"
   ]
  },
  {
   "cell_type": "code",
   "execution_count": 66,
   "metadata": {},
   "outputs": [
    {
     "data": {
      "text/plain": [
       "array([0.04396261, 0.04128627, 0.0371427 , 0.03486034, 0.03393653,\n",
       "       0.03388219, 0.03161341, 0.03149114, 0.03093414, 0.03077111,\n",
       "       0.02972503, 0.0289099 , 0.02885556, 0.02863819, 0.02854309,\n",
       "       0.02793175, 0.0274155 , 0.02621998, 0.02608412, 0.02589392,\n",
       "       0.02511955, 0.02491577, 0.02416857, 0.02388327, 0.0238561 ,\n",
       "       0.02384252, 0.02350288, 0.02344854, 0.02321759, 0.02090805,\n",
       "       0.02056842, 0.01946799, 0.01767471, 0.01748451, 0.01418324,\n",
       "       0.01249864, 0.01070536, 0.00952342, 0.0066433 , 0.00358657,\n",
       "       0.00186121, 0.0008423 ])"
      ]
     },
     "execution_count": 66,
     "metadata": {},
     "output_type": "execute_result"
    }
   ],
   "source": [
    "ratio = y/y.sum()\n",
    "ratio"
   ]
  },
  {
   "cell_type": "code",
   "execution_count": 67,
   "metadata": {},
   "outputs": [
    {
     "data": {
      "text/plain": [
       "array([0.04396261, 0.08524889, 0.12239159, 0.15725193, 0.19118846,\n",
       "       0.22507064, 0.25668406, 0.2881752 , 0.31910934, 0.34988045,\n",
       "       0.37960548, 0.40851538, 0.43737094, 0.46600913, 0.49455222,\n",
       "       0.52248397, 0.54989947, 0.57611944, 0.60220356, 0.62809749,\n",
       "       0.65321704, 0.67813281, 0.70230138, 0.72618465, 0.75004076,\n",
       "       0.77388327, 0.79738615, 0.82083469, 0.84405228, 0.86496033,\n",
       "       0.88552875, 0.90499674, 0.92267145, 0.94015596, 0.9543392 ,\n",
       "       0.96683784, 0.9775432 , 0.98706662, 0.99370992, 0.99729649,\n",
       "       0.9991577 , 1.        ])"
      ]
     },
     "execution_count": 67,
     "metadata": {},
     "output_type": "execute_result"
    }
   ],
   "source": [
    "# 누적데이터 보여주는 함수 : cumsum()\n",
    "ratio_sum = ratio.cumsum()\n",
    "ratio_sum"
   ]
  },
  {
   "cell_type": "markdown",
   "metadata": {},
   "source": [
    "### 그래프 그리기"
   ]
  },
  {
   "cell_type": "code",
   "execution_count": 60,
   "metadata": {},
   "outputs": [],
   "source": [
    "# plt.subplots() 참고\n",
    "# https://m.blog.naver.com/PostView.nhn?blogId=heygun&logNo=221520454294&proxyReferer=https:%2F%2Fwww.google.com%2F"
   ]
  },
  {
   "cell_type": "code",
   "execution_count": 68,
   "metadata": {
    "scrolled": true
   },
   "outputs": [
    {
     "data": {
      "image/png": "[encoded data removed]",
      "text/plain": [
       "<Figure size 1440x288 with 2 Axes>"
      ]
     },
     "metadata": {
      "needs_background": "light"
     },
     "output_type": "display_data"
    }
   ],
   "source": [
    "# figsize 지정\n",
    "fig, barChart = plt.subplots(figsize=(20,4))\n",
    "\n",
    "# bar chart에 x, y값 넣어서 bar chart 생성\n",
    "barChart.bar(x, y)\n",
    "\n",
    "# line chart 생성\n",
    "lineChart = barChart.twinx()  # twinx() : 두 개의 차트가 서로 다른 y 축, 공통 x 축을 사용하게 해줌\n",
    "lineChart.plot(x, ratio_sum, '-gs', alpha = 0.5)  # alpha:투명도 # -ro = red o 동그라미 선 s = squre ,>세모같은거\n",
    "\n",
    "######## ------- 잘라서 보여주기 -------- ########\n",
    "\n",
    "# 오른쪽 축(라인 차트 축) 레이블\n",
    "#리스트안에 반복문을 쓴 것 , 리스트 컴프리헨션 ranges = .1%는 소수점1쨰짜리까지 보여주는것 , format(x) 문자열 포메팅\n",
    "ranges = lineChart.get_yticks() # y차트의 단위들\n",
    "lineChart.set_yticklabels(['{0:.1%}'.format(x) for x in ranges]) \n",
    "\n",
    "# 라인차트 데이터 별 %값 주석(annotation)\n",
    "ratio_sum_percentages = ['{0:.0%}'.format(x) for x in ratio_sum]\n",
    "for i, txt in enumerate(ratio_sum_percentages):\n",
    "    lineChart.annotate(txt, (x[i], ratio_sum[i]), fontsize=13)\n",
    "\n",
    "# x, y label (이름) 만들기\n",
    "barChart.set_xlabel('Age', fontdict={'size':16})\n",
    "barChart.set_ylabel('Number of runner', fontdict={'size':16})\n",
    "\n",
    "# plot에 title(제목) 만들기\n",
    "plt.title('Pareto Chart - Number of runner by Age', fontsize=18)\n",
    "\n",
    "plt.show()"
   ]
  },
  {
   "cell_type": "markdown",
   "metadata": {},
   "source": [
    "### -> 파레토 차트로 직관적으로 상위 n%를 확인할 수 있다"
   ]
  },
  {
   "cell_type": "markdown",
   "metadata": {},
   "source": [
    "### part2. 나이 순서대로 정렬해서 그래프 그리기"
   ]
  },
  {
   "cell_type": "code",
   "execution_count": 69,
   "metadata": {
    "scrolled": true
   },
   "outputs": [],
   "source": [
    "import pandas as pd\n",
    "import matplotlib.pyplot as plt\n",
    "\n",
    "marathon_2015_2017 = pd.read_csv('data/marathon_2015_2017.csv')\n",
    "#### 18세~59세 데이터만 가져오기 : isin() : 컬럼에서 어떤 특정 값을 포함하고 있는것만 걸러낼 때\n",
    "runner_18_59 = marathon_2015_2017[marathon_2015_2017.Age.isin(range(18, 60))]\n",
    "# print(runner_18_59)\n",
    "\n",
    "#### 18~59세 나이대별로 카운트 : value_counts()\n",
    "runner_18_59_counting = runner_18_59.Age.value_counts()\n",
    "# print(runner_18_59_counting)"
   ]
  },
  {
   "cell_type": "markdown",
   "metadata": {},
   "source": [
    "#### 나이와 참가자 수 각각 데이터프레임에 칼럼 추가 -> Age를 이용한 sort 가능"
   ]
  },
  {
   "cell_type": "code",
   "execution_count": 70,
   "metadata": {
    "scrolled": true
   },
   "outputs": [
    {
     "name": "stdout",
     "output_type": "stream",
     "text": [
      "    Age  Count\n",
      "45   45   3236\n",
      "46   46   3039\n",
      "40   40   2734\n",
      "47   47   2566\n",
      "50   50   2498\n",
      "41   41   2494\n",
      "35   35   2327\n",
      "42   42   2318\n",
      "48   48   2277\n",
      "43   43   2265\n",
      "36   36   2188\n",
      "38   38   2128\n",
      "51   51   2124\n",
      "37   37   2108\n",
      "39   39   2101\n",
      "44   44   2056\n",
      "49   49   2018\n",
      "52   52   1930\n",
      "55   55   1920\n",
      "29   29   1906\n",
      "30   30   1849\n",
      "33   33   1834\n",
      "31   31   1779\n",
      "28   28   1758\n",
      "34   34   1756\n",
      "27   27   1755\n",
      "53   53   1730\n",
      "32   32   1726\n",
      "26   26   1709\n",
      "25   25   1539\n",
      "56   56   1514\n",
      "54   54   1433\n",
      "24   24   1301\n",
      "57   57   1287\n",
      "58   58   1044\n",
      "23   23    920\n",
      "59   59    788\n",
      "22   22    701\n",
      "21   21    489\n",
      "20   20    264\n",
      "19   19    137\n",
      "18   18     62\n"
     ]
    }
   ],
   "source": [
    "runner_age = pd.DataFrame({\n",
    "    'Age': runner_18_59_counting.index,\n",
    "    'Count': runner_18_59_counting\n",
    "})\n",
    "print(runner_age)"
   ]
  },
  {
   "cell_type": "code",
   "execution_count": 71,
   "metadata": {
    "scrolled": true
   },
   "outputs": [
    {
     "data": {
      "text/html": [
       "<div>\n",
       "<style scoped>\n",
       "    .dataframe tbody tr th:only-of-type {\n",
       "        vertical-align: middle;\n",
       "    }\n",
       "\n",
       "    .dataframe tbody tr th {\n",
       "        vertical-align: top;\n",
       "    }\n",
       "\n",
       "    .dataframe thead th {\n",
       "        text-align: right;\n",
       "    }\n",
       "</style>\n",
       "<table border=\"1\" class=\"dataframe\">\n",
       "  <thead>\n",
       "    <tr style=\"text-align: right;\">\n",
       "      <th></th>\n",
       "      <th>Age</th>\n",
       "      <th>Count</th>\n",
       "    </tr>\n",
       "  </thead>\n",
       "  <tbody>\n",
       "    <tr>\n",
       "      <th>18</th>\n",
       "      <td>18</td>\n",
       "      <td>62</td>\n",
       "    </tr>\n",
       "    <tr>\n",
       "      <th>19</th>\n",
       "      <td>19</td>\n",
       "      <td>137</td>\n",
       "    </tr>\n",
       "    <tr>\n",
       "      <th>20</th>\n",
       "      <td>20</td>\n",
       "      <td>264</td>\n",
       "    </tr>\n",
       "    <tr>\n",
       "      <th>21</th>\n",
       "      <td>21</td>\n",
       "      <td>489</td>\n",
       "    </tr>\n",
       "    <tr>\n",
       "      <th>22</th>\n",
       "      <td>22</td>\n",
       "      <td>701</td>\n",
       "    </tr>\n",
       "    <tr>\n",
       "      <th>23</th>\n",
       "      <td>23</td>\n",
       "      <td>920</td>\n",
       "    </tr>\n",
       "    <tr>\n",
       "      <th>24</th>\n",
       "      <td>24</td>\n",
       "      <td>1301</td>\n",
       "    </tr>\n",
       "    <tr>\n",
       "      <th>25</th>\n",
       "      <td>25</td>\n",
       "      <td>1539</td>\n",
       "    </tr>\n",
       "    <tr>\n",
       "      <th>26</th>\n",
       "      <td>26</td>\n",
       "      <td>1709</td>\n",
       "    </tr>\n",
       "    <tr>\n",
       "      <th>27</th>\n",
       "      <td>27</td>\n",
       "      <td>1755</td>\n",
       "    </tr>\n",
       "    <tr>\n",
       "      <th>28</th>\n",
       "      <td>28</td>\n",
       "      <td>1758</td>\n",
       "    </tr>\n",
       "    <tr>\n",
       "      <th>29</th>\n",
       "      <td>29</td>\n",
       "      <td>1906</td>\n",
       "    </tr>\n",
       "    <tr>\n",
       "      <th>30</th>\n",
       "      <td>30</td>\n",
       "      <td>1849</td>\n",
       "    </tr>\n",
       "    <tr>\n",
       "      <th>31</th>\n",
       "      <td>31</td>\n",
       "      <td>1779</td>\n",
       "    </tr>\n",
       "    <tr>\n",
       "      <th>32</th>\n",
       "      <td>32</td>\n",
       "      <td>1726</td>\n",
       "    </tr>\n",
       "    <tr>\n",
       "      <th>33</th>\n",
       "      <td>33</td>\n",
       "      <td>1834</td>\n",
       "    </tr>\n",
       "    <tr>\n",
       "      <th>34</th>\n",
       "      <td>34</td>\n",
       "      <td>1756</td>\n",
       "    </tr>\n",
       "    <tr>\n",
       "      <th>35</th>\n",
       "      <td>35</td>\n",
       "      <td>2327</td>\n",
       "    </tr>\n",
       "    <tr>\n",
       "      <th>36</th>\n",
       "      <td>36</td>\n",
       "      <td>2188</td>\n",
       "    </tr>\n",
       "    <tr>\n",
       "      <th>37</th>\n",
       "      <td>37</td>\n",
       "      <td>2108</td>\n",
       "    </tr>\n",
       "    <tr>\n",
       "      <th>38</th>\n",
       "      <td>38</td>\n",
       "      <td>2128</td>\n",
       "    </tr>\n",
       "    <tr>\n",
       "      <th>39</th>\n",
       "      <td>39</td>\n",
       "      <td>2101</td>\n",
       "    </tr>\n",
       "    <tr>\n",
       "      <th>40</th>\n",
       "      <td>40</td>\n",
       "      <td>2734</td>\n",
       "    </tr>\n",
       "    <tr>\n",
       "      <th>41</th>\n",
       "      <td>41</td>\n",
       "      <td>2494</td>\n",
       "    </tr>\n",
       "    <tr>\n",
       "      <th>42</th>\n",
       "      <td>42</td>\n",
       "      <td>2318</td>\n",
       "    </tr>\n",
       "    <tr>\n",
       "      <th>43</th>\n",
       "      <td>43</td>\n",
       "      <td>2265</td>\n",
       "    </tr>\n",
       "    <tr>\n",
       "      <th>44</th>\n",
       "      <td>44</td>\n",
       "      <td>2056</td>\n",
       "    </tr>\n",
       "    <tr>\n",
       "      <th>45</th>\n",
       "      <td>45</td>\n",
       "      <td>3236</td>\n",
       "    </tr>\n",
       "    <tr>\n",
       "      <th>46</th>\n",
       "      <td>46</td>\n",
       "      <td>3039</td>\n",
       "    </tr>\n",
       "    <tr>\n",
       "      <th>47</th>\n",
       "      <td>47</td>\n",
       "      <td>2566</td>\n",
       "    </tr>\n",
       "    <tr>\n",
       "      <th>48</th>\n",
       "      <td>48</td>\n",
       "      <td>2277</td>\n",
       "    </tr>\n",
       "    <tr>\n",
       "      <th>49</th>\n",
       "      <td>49</td>\n",
       "      <td>2018</td>\n",
       "    </tr>\n",
       "    <tr>\n",
       "      <th>50</th>\n",
       "      <td>50</td>\n",
       "      <td>2498</td>\n",
       "    </tr>\n",
       "    <tr>\n",
       "      <th>51</th>\n",
       "      <td>51</td>\n",
       "      <td>2124</td>\n",
       "    </tr>\n",
       "    <tr>\n",
       "      <th>52</th>\n",
       "      <td>52</td>\n",
       "      <td>1930</td>\n",
       "    </tr>\n",
       "    <tr>\n",
       "      <th>53</th>\n",
       "      <td>53</td>\n",
       "      <td>1730</td>\n",
       "    </tr>\n",
       "    <tr>\n",
       "      <th>54</th>\n",
       "      <td>54</td>\n",
       "      <td>1433</td>\n",
       "    </tr>\n",
       "    <tr>\n",
       "      <th>55</th>\n",
       "      <td>55</td>\n",
       "      <td>1920</td>\n",
       "    </tr>\n",
       "    <tr>\n",
       "      <th>56</th>\n",
       "      <td>56</td>\n",
       "      <td>1514</td>\n",
       "    </tr>\n",
       "    <tr>\n",
       "      <th>57</th>\n",
       "      <td>57</td>\n",
       "      <td>1287</td>\n",
       "    </tr>\n",
       "    <tr>\n",
       "      <th>58</th>\n",
       "      <td>58</td>\n",
       "      <td>1044</td>\n",
       "    </tr>\n",
       "    <tr>\n",
       "      <th>59</th>\n",
       "      <td>59</td>\n",
       "      <td>788</td>\n",
       "    </tr>\n",
       "  </tbody>\n",
       "</table>\n",
       "</div>"
      ],
      "text/plain": [
       "    Age  Count\n",
       "18   18     62\n",
       "19   19    137\n",
       "20   20    264\n",
       "21   21    489\n",
       "22   22    701\n",
       "23   23    920\n",
       "24   24   1301\n",
       "25   25   1539\n",
       "26   26   1709\n",
       "27   27   1755\n",
       "28   28   1758\n",
       "29   29   1906\n",
       "30   30   1849\n",
       "31   31   1779\n",
       "32   32   1726\n",
       "33   33   1834\n",
       "34   34   1756\n",
       "35   35   2327\n",
       "36   36   2188\n",
       "37   37   2108\n",
       "38   38   2128\n",
       "39   39   2101\n",
       "40   40   2734\n",
       "41   41   2494\n",
       "42   42   2318\n",
       "43   43   2265\n",
       "44   44   2056\n",
       "45   45   3236\n",
       "46   46   3039\n",
       "47   47   2566\n",
       "48   48   2277\n",
       "49   49   2018\n",
       "50   50   2498\n",
       "51   51   2124\n",
       "52   52   1930\n",
       "53   53   1730\n",
       "54   54   1433\n",
       "55   55   1920\n",
       "56   56   1514\n",
       "57   57   1287\n",
       "58   58   1044\n",
       "59   59    788"
      ]
     },
     "execution_count": 71,
     "metadata": {},
     "output_type": "execute_result"
    }
   ],
   "source": [
    "runner_age_sort = runner_age.sort_values(by='Age')\n",
    "runner_age_sort"
   ]
  },
  {
   "cell_type": "code",
   "execution_count": 72,
   "metadata": {},
   "outputs": [],
   "source": [
    "# runner_age_sort 값 기준\n",
    "x = runner_age_sort.index\n",
    "# int값을 str 값으로 바꾸기\n",
    "x = [str(i) for i in x]\n",
    "\n",
    "# y값도 변경\n",
    "y = runner_age_sort['Count']"
   ]
  },
  {
   "cell_type": "code",
   "execution_count": 73,
   "metadata": {},
   "outputs": [
    {
     "name": "stdout",
     "output_type": "stream",
     "text": [
      "18    0.000842\n",
      "19    0.002704\n",
      "20    0.006290\n",
      "21    0.012933\n",
      "22    0.022457\n",
      "23    0.034955\n",
      "24    0.052630\n",
      "25    0.073538\n",
      "26    0.096756\n",
      "27    0.120598\n",
      "28    0.144482\n",
      "29    0.170376\n",
      "30    0.195495\n",
      "31    0.219664\n",
      "32    0.243112\n",
      "33    0.268028\n",
      "34    0.291884\n",
      "35    0.323497\n",
      "36    0.353222\n",
      "37    0.381861\n",
      "38    0.410771\n",
      "39    0.439314\n",
      "40    0.476456\n",
      "41    0.510339\n",
      "42    0.541830\n",
      "43    0.572601\n",
      "44    0.600533\n",
      "45    0.644495\n",
      "46    0.685781\n",
      "47    0.720642\n",
      "48    0.751576\n",
      "49    0.778991\n",
      "50    0.812928\n",
      "51    0.841784\n",
      "52    0.868003\n",
      "53    0.891506\n",
      "54    0.910974\n",
      "55    0.937058\n",
      "56    0.957627\n",
      "57    0.975111\n",
      "58    0.989295\n",
      "59    1.000000\n",
      "Name: Count, dtype: float64\n",
      "[0.0008422997500271709, 0.0027035104879904355, 0.0062900771655254855, 0.012933376806868818, 0.02245679817411151, 0.0349554396261276, 0.05263014889685904, 0.07353820236930769, 0.09675578741441149, 0.12059830453211609, 0.14448157808933815, 0.17037550266275409, 0.19549505488533858, 0.21966362351918273, 0.24311216172155203, 0.2680279317465493, 0.29188403434409305, 0.32349744592979024, 0.3532224758178459, 0.3818606673187697, 0.41077056841647647, 0.43931366155852625, 0.47645636343875664, 0.5103385501575916, 0.5418296924247364, 0.5726008042604065, 0.6005325508096946, 0.6444951635691772, 0.6857814368003478, 0.7206417780676013, 0.7515759156613412, 0.7789914139767417, 0.8129279426149332, 0.8417835017932833, 0.8680034778828388, 0.8915063580045647, 0.9109743506140636, 0.9370584719052276, 0.9576268883816975, 0.9751114009346808, 0.9892946418867513, 0.9999999999999999]\n"
     ]
    }
   ],
   "source": [
    "# 누적데이터 보여주는 함수 : cumsum()\n",
    "ratio = y/y.sum()\n",
    "ratio_sum = ratio.cumsum()\n",
    "print(ratio_sum)\n",
    "\n",
    "# y 누적값을 리스트 형식으로 바꿔주기\n",
    "y_ratio = [i for i in ratio_sum]\n",
    "print(y_ratio)"
   ]
  },
  {
   "cell_type": "code",
   "execution_count": 74,
   "metadata": {},
   "outputs": [],
   "source": [
    "# plt.subplots() 참고\n",
    "# https://m.blog.naver.com/PostView.nhn?blogId=heygun&logNo=221520454294&proxyReferer=https:%2F%2Fwww.google.com%2F"
   ]
  },
  {
   "cell_type": "code",
   "execution_count": 75,
   "metadata": {},
   "outputs": [
    {
     "data": {
      "image/png": "[encoded data removed]",
      "text/plain": [
       "<Figure size 1440x720 with 2 Axes>"
      ]
     },
     "metadata": {
      "needs_background": "light"
     },
     "output_type": "display_data"
    }
   ],
   "source": [
    "# 데이터 그리기\n",
    "\n",
    "# figsize 지정\n",
    "fig, barChart = plt.subplots(figsize=(20,10))\n",
    "\n",
    "# bar chart에 x, y값 넣어서 bar chart 생성\n",
    "barChart.bar(x, y)\n",
    "\n",
    "# line chart 생성\n",
    "lineChart = barChart.twinx()  # twinx() : 두 개의 차트가 서로 다른 y 축, 공통 x 축을 사용하게 해줌\n",
    "lineChart.plot(x, ratio_sum, '-g^', alpha = 0.5)  # alpha:투명도\n",
    "\n",
    "# 오른쪽 축(라인 차트 축) 레이블\n",
    "ranges = lineChart.get_yticks() # y차트의 단위들\n",
    "lineChart.set_yticklabels(['{0:.1%}'.format(x) for x in ranges])\n",
    "\n",
    "# 라인차트 데이터 별 %값 주석(annotation)\n",
    "ratio_sum_percentages = ['{0:.0%}'.format(x) for x in ratio_sum]\n",
    "for i, txt in enumerate(ratio_sum_percentages):\n",
    "    lineChart.annotate(txt, (x[i], y_ratio[i]), fontsize=12)  #변경된 부분: ratio_sum -> y_ratio\n",
    "\n",
    "# x, y label, title 만들기\n",
    "barChart.set_xlabel('Age', fontdict={'size':16})\n",
    "barChart.set_ylabel('Number of runner', fontdict={'size':16})\n",
    "plt.title('Dual Axis Chart - Number of runner by Age', fontsize=18)  # 제목 변경(dual axis chart)\n",
    "\n",
    "# show plot\n",
    "plt.show()"
   ]
  },
  {
   "cell_type": "markdown",
   "metadata": {},
   "source": [
    "# 3. Pie chart"
   ]
  },
  {
   "cell_type": "code",
   "execution_count": 76,
   "metadata": {},
   "outputs": [],
   "source": [
    "import pandas as pd\n",
    "import numpy as np\n",
    "import matplotlib.pyplot as plt\n",
    "\n",
    "marathon_2015_2017 = pd.read_csv('data/marathon_2015_2017.csv')"
   ]
  },
  {
   "cell_type": "code",
   "execution_count": 77,
   "metadata": {},
   "outputs": [
    {
     "data": {
      "text/plain": [
       "('Male', 'Female')"
      ]
     },
     "execution_count": 77,
     "metadata": {},
     "output_type": "execute_result"
    }
   ],
   "source": [
    "# 라벨 지정\n",
    "# 튜플 : 리스트와 유사하지만 값 수정이 안된다\n",
    "labels = 'Male', 'Female'\n",
    "labels"
   ]
  },
  {
   "cell_type": "code",
   "execution_count": 92,
   "metadata": {},
   "outputs": [],
   "source": [
    "# 차트를 입체적으로 보이게(음영)\n",
    "explode = (0,0.1)"
   ]
  },
  {
   "cell_type": "code",
   "execution_count": 93,
   "metadata": {},
   "outputs": [
    {
     "data": {
      "text/plain": [
       "Index(['Name', 'Age', 'M/F', 'City', 'State', 'Country', '5K', '10K', '15K',\n",
       "       '20K', 'Half', '25K', '30K', '35K', '40K', 'Pace', 'Official Time',\n",
       "       'Overall', 'Gender', 'Division', 'Year'],\n",
       "      dtype='object')"
      ]
     },
     "execution_count": 93,
     "metadata": {},
     "output_type": "execute_result"
    }
   ],
   "source": [
    "marathon_2015_2017.columns"
   ]
  },
  {
   "cell_type": "code",
   "execution_count": 94,
   "metadata": {},
   "outputs": [
    {
     "data": {
      "text/plain": [
       "M    43482\n",
       "F    36156\n",
       "Name: M/F, dtype: int64"
      ]
     },
     "execution_count": 94,
     "metadata": {},
     "output_type": "execute_result"
    }
   ],
   "source": [
    "marathon_2015_2017['M/F'].value_counts()"
   ]
  },
  {
   "cell_type": "code",
   "execution_count": 99,
   "metadata": {},
   "outputs": [
    {
     "data": {
      "image/png": "[encoded data removed]",
      "text/plain": [
       "<Figure size 432x432 with 1 Axes>"
      ]
     },
     "metadata": {},
     "output_type": "display_data"
    }
   ],
   "source": [
    "plt.figure(figsize=(6,6))\n",
    "\n",
    "# pie chart 만들기(차트 띄우기, labels 달기, 각 조정, 그림자, 값 소숫점 표시)\n",
    "plt.pie(marathon_2015_2017['M/F'].value_counts(), explode=explode, labels=labels, startangle=90, shadow=True, autopct='%.1f')\n",
    "\n",
    "# 라벨, 타이틀 달기\n",
    "plt.title('Male vs Female', fontsize=18)\n",
    "\n",
    "# 레전드(범례) 달기\n",
    "plt.legend(['Male', 'Female'], loc='upper center')\n",
    "\n",
    "plt.show()"
   ]
  },
  {
   "cell_type": "markdown",
   "metadata": {},
   "source": [
    "# 4. Line chart(시계열 , 연도별 , 순서나열 등)"
   ]
  },
  {
   "cell_type": "raw",
   "metadata": {},
   "source": [
    "1~100등까지의 풀타임, 30K, 20K, 10K 기록을 그래프로 그려보자\n",
    "(1) \n",
    "(2) \n",
    "(3) "
   ]
  },
  {
   "cell_type": "code",
   "execution_count": 100,
   "metadata": {},
   "outputs": [
    {
     "data": {
      "text/html": [
       "<div>\n",
       "<style scoped>\n",
       "    .dataframe tbody tr th:only-of-type {\n",
       "        vertical-align: middle;\n",
       "    }\n",
       "\n",
       "    .dataframe tbody tr th {\n",
       "        vertical-align: top;\n",
       "    }\n",
       "\n",
       "    .dataframe thead th {\n",
       "        text-align: right;\n",
       "    }\n",
       "</style>\n",
       "<table border=\"1\" class=\"dataframe\">\n",
       "  <thead>\n",
       "    <tr style=\"text-align: right;\">\n",
       "      <th></th>\n",
       "      <th>Name</th>\n",
       "      <th>Age</th>\n",
       "      <th>M/F</th>\n",
       "      <th>City</th>\n",
       "      <th>State</th>\n",
       "      <th>Country</th>\n",
       "      <th>5K</th>\n",
       "      <th>10K</th>\n",
       "      <th>15K</th>\n",
       "      <th>20K</th>\n",
       "      <th>...</th>\n",
       "      <th>25K</th>\n",
       "      <th>30K</th>\n",
       "      <th>35K</th>\n",
       "      <th>40K</th>\n",
       "      <th>Pace</th>\n",
       "      <th>Official Time</th>\n",
       "      <th>Overall</th>\n",
       "      <th>Gender</th>\n",
       "      <th>Division</th>\n",
       "      <th>Year</th>\n",
       "    </tr>\n",
       "  </thead>\n",
       "  <tbody>\n",
       "    <tr>\n",
       "      <th>0</th>\n",
       "      <td>Desisa, Lelisa</td>\n",
       "      <td>25</td>\n",
       "      <td>M</td>\n",
       "      <td>Ambo</td>\n",
       "      <td>NaN</td>\n",
       "      <td>ETH</td>\n",
       "      <td>883</td>\n",
       "      <td>1783</td>\n",
       "      <td>2697</td>\n",
       "      <td>3629</td>\n",
       "      <td>...</td>\n",
       "      <td>4567</td>\n",
       "      <td>5520</td>\n",
       "      <td>6479</td>\n",
       "      <td>7359</td>\n",
       "      <td>296</td>\n",
       "      <td>7757</td>\n",
       "      <td>1</td>\n",
       "      <td>1</td>\n",
       "      <td>1</td>\n",
       "      <td>2015</td>\n",
       "    </tr>\n",
       "    <tr>\n",
       "      <th>1</th>\n",
       "      <td>Tsegay, Yemane Adhane</td>\n",
       "      <td>30</td>\n",
       "      <td>M</td>\n",
       "      <td>Addis Ababa</td>\n",
       "      <td>NaN</td>\n",
       "      <td>ETH</td>\n",
       "      <td>883</td>\n",
       "      <td>1783</td>\n",
       "      <td>2698</td>\n",
       "      <td>3628</td>\n",
       "      <td>...</td>\n",
       "      <td>4567</td>\n",
       "      <td>5519</td>\n",
       "      <td>6479</td>\n",
       "      <td>7362</td>\n",
       "      <td>298</td>\n",
       "      <td>7788</td>\n",
       "      <td>2</td>\n",
       "      <td>2</td>\n",
       "      <td>2</td>\n",
       "      <td>2015</td>\n",
       "    </tr>\n",
       "    <tr>\n",
       "      <th>2</th>\n",
       "      <td>Chebet, Wilson</td>\n",
       "      <td>29</td>\n",
       "      <td>M</td>\n",
       "      <td>Marakwet</td>\n",
       "      <td>NaN</td>\n",
       "      <td>KEN</td>\n",
       "      <td>883</td>\n",
       "      <td>1783</td>\n",
       "      <td>2697</td>\n",
       "      <td>3629</td>\n",
       "      <td>...</td>\n",
       "      <td>4567</td>\n",
       "      <td>5520</td>\n",
       "      <td>6479</td>\n",
       "      <td>7381</td>\n",
       "      <td>299</td>\n",
       "      <td>7822</td>\n",
       "      <td>3</td>\n",
       "      <td>3</td>\n",
       "      <td>3</td>\n",
       "      <td>2015</td>\n",
       "    </tr>\n",
       "  </tbody>\n",
       "</table>\n",
       "<p>3 rows × 21 columns</p>\n",
       "</div>"
      ],
      "text/plain": [
       "                    Name  Age M/F         City State Country   5K   10K   15K  \\\n",
       "0         Desisa, Lelisa   25   M         Ambo   NaN     ETH  883  1783  2697   \n",
       "1  Tsegay, Yemane Adhane   30   M  Addis Ababa   NaN     ETH  883  1783  2698   \n",
       "2         Chebet, Wilson   29   M     Marakwet   NaN     KEN  883  1783  2697   \n",
       "\n",
       "    20K  ...   25K   30K   35K   40K  Pace  Official Time  Overall  Gender  \\\n",
       "0  3629  ...  4567  5520  6479  7359   296           7757        1       1   \n",
       "1  3628  ...  4567  5519  6479  7362   298           7788        2       2   \n",
       "2  3629  ...  4567  5520  6479  7381   299           7822        3       3   \n",
       "\n",
       "   Division  Year  \n",
       "0         1  2015  \n",
       "1         2  2015  \n",
       "2         3  2015  \n",
       "\n",
       "[3 rows x 21 columns]"
      ]
     },
     "execution_count": 100,
     "metadata": {},
     "output_type": "execute_result"
    }
   ],
   "source": [
    "import pandas as pd\n",
    "import matplotlib.pyplot as plt\n",
    "\n",
    "marathon_2015_2017.head(3)"
   ]
  },
  {
   "cell_type": "markdown",
   "metadata": {},
   "source": [
    "### 필요한 칼럼만 가져와서 데이터프레임으로 만들기"
   ]
  },
  {
   "cell_type": "code",
   "execution_count": 101,
   "metadata": {},
   "outputs": [],
   "source": [
    "#pd.DataFrame = 데이터 프레임을 만들어라 라는 명령어 . 우리가 원하는 칼럼과 데이터만 선택해다시 만듬. \n",
    "#sort_values(by=['칼럼명']) : 칼러명 기준으로 정렬.\n",
    "record = pd.DataFrame(marathon_2015_2017, columns=['5K','10K','15K','20K','Half','25K','30K','35K','40K','Official Time']).sort_values(by=['Official Time'])"
   ]
  },
  {
   "cell_type": "code",
   "execution_count": 102,
   "metadata": {
    "scrolled": true
   },
   "outputs": [
    {
     "data": {
      "text/html": [
       "<div>\n",
       "<style scoped>\n",
       "    .dataframe tbody tr th:only-of-type {\n",
       "        vertical-align: middle;\n",
       "    }\n",
       "\n",
       "    .dataframe tbody tr th {\n",
       "        vertical-align: top;\n",
       "    }\n",
       "\n",
       "    .dataframe thead th {\n",
       "        text-align: right;\n",
       "    }\n",
       "</style>\n",
       "<table border=\"1\" class=\"dataframe\">\n",
       "  <thead>\n",
       "    <tr style=\"text-align: right;\">\n",
       "      <th></th>\n",
       "      <th>5K</th>\n",
       "      <th>10K</th>\n",
       "      <th>15K</th>\n",
       "      <th>20K</th>\n",
       "      <th>Half</th>\n",
       "      <th>25K</th>\n",
       "      <th>30K</th>\n",
       "      <th>35K</th>\n",
       "      <th>40K</th>\n",
       "      <th>Official Time</th>\n",
       "    </tr>\n",
       "  </thead>\n",
       "  <tbody>\n",
       "    <tr>\n",
       "      <th>0</th>\n",
       "      <td>883</td>\n",
       "      <td>1783</td>\n",
       "      <td>2697</td>\n",
       "      <td>3629</td>\n",
       "      <td>3842</td>\n",
       "      <td>4567</td>\n",
       "      <td>5520</td>\n",
       "      <td>6479</td>\n",
       "      <td>7359</td>\n",
       "      <td>7757</td>\n",
       "    </tr>\n",
       "    <tr>\n",
       "      <th>53228</th>\n",
       "      <td>925</td>\n",
       "      <td>1828</td>\n",
       "      <td>2744</td>\n",
       "      <td>3675</td>\n",
       "      <td>3875</td>\n",
       "      <td>4619</td>\n",
       "      <td>5581</td>\n",
       "      <td>6499</td>\n",
       "      <td>7373</td>\n",
       "      <td>7777</td>\n",
       "    </tr>\n",
       "    <tr>\n",
       "      <th>1</th>\n",
       "      <td>883</td>\n",
       "      <td>1783</td>\n",
       "      <td>2698</td>\n",
       "      <td>3628</td>\n",
       "      <td>3841</td>\n",
       "      <td>4567</td>\n",
       "      <td>5519</td>\n",
       "      <td>6479</td>\n",
       "      <td>7362</td>\n",
       "      <td>7788</td>\n",
       "    </tr>\n",
       "    <tr>\n",
       "      <th>53229</th>\n",
       "      <td>924</td>\n",
       "      <td>1827</td>\n",
       "      <td>2744</td>\n",
       "      <td>3675</td>\n",
       "      <td>3875</td>\n",
       "      <td>4619</td>\n",
       "      <td>5581</td>\n",
       "      <td>6499</td>\n",
       "      <td>7394</td>\n",
       "      <td>7798</td>\n",
       "    </tr>\n",
       "    <tr>\n",
       "      <th>2</th>\n",
       "      <td>883</td>\n",
       "      <td>1783</td>\n",
       "      <td>2697</td>\n",
       "      <td>3629</td>\n",
       "      <td>3842</td>\n",
       "      <td>4567</td>\n",
       "      <td>5520</td>\n",
       "      <td>6479</td>\n",
       "      <td>7381</td>\n",
       "      <td>7822</td>\n",
       "    </tr>\n",
       "  </tbody>\n",
       "</table>\n",
       "</div>"
      ],
      "text/plain": [
       "        5K   10K   15K   20K  Half   25K   30K   35K   40K  Official Time\n",
       "0      883  1783  2697  3629  3842  4567  5520  6479  7359           7757\n",
       "53228  925  1828  2744  3675  3875  4619  5581  6499  7373           7777\n",
       "1      883  1783  2698  3628  3841  4567  5519  6479  7362           7788\n",
       "53229  924  1827  2744  3675  3875  4619  5581  6499  7394           7798\n",
       "2      883  1783  2697  3629  3842  4567  5520  6479  7381           7822"
      ]
     },
     "execution_count": 102,
     "metadata": {},
     "output_type": "execute_result"
    }
   ],
   "source": [
    "record.head()"
   ]
  },
  {
   "cell_type": "markdown",
   "metadata": {},
   "source": [
    "#### 칼럼 추가하기 : insert()"
   ]
  },
  {
   "cell_type": "code",
   "execution_count": 112,
   "metadata": {},
   "outputs": [
    {
     "data": {
      "text/plain": [
       "range(1, 79639)"
      ]
     },
     "execution_count": 112,
     "metadata": {},
     "output_type": "execute_result"
    }
   ],
   "source": [
    "range(1, len(record)+1)"
   ]
  },
  {
   "cell_type": "code",
   "execution_count": 113,
   "metadata": {},
   "outputs": [],
   "source": [
    "#레코드 데이터프레임에 인서트 함수 , 0번째 , Rank , range 1,len(record)+1\n",
    "record.insert(0, 'Rank', range(1, len(record)+1))"
   ]
  },
  {
   "cell_type": "code",
   "execution_count": 114,
   "metadata": {},
   "outputs": [
    {
     "data": {
      "text/html": [
       "<div>\n",
       "<style scoped>\n",
       "    .dataframe tbody tr th:only-of-type {\n",
       "        vertical-align: middle;\n",
       "    }\n",
       "\n",
       "    .dataframe tbody tr th {\n",
       "        vertical-align: top;\n",
       "    }\n",
       "\n",
       "    .dataframe thead th {\n",
       "        text-align: right;\n",
       "    }\n",
       "</style>\n",
       "<table border=\"1\" class=\"dataframe\">\n",
       "  <thead>\n",
       "    <tr style=\"text-align: right;\">\n",
       "      <th></th>\n",
       "      <th>Rank</th>\n",
       "      <th>5K</th>\n",
       "      <th>10K</th>\n",
       "      <th>15K</th>\n",
       "      <th>20K</th>\n",
       "      <th>Half</th>\n",
       "      <th>25K</th>\n",
       "      <th>30K</th>\n",
       "      <th>35K</th>\n",
       "      <th>40K</th>\n",
       "      <th>Official Time</th>\n",
       "    </tr>\n",
       "  </thead>\n",
       "  <tbody>\n",
       "    <tr>\n",
       "      <th>0</th>\n",
       "      <td>1</td>\n",
       "      <td>883</td>\n",
       "      <td>1783</td>\n",
       "      <td>2697</td>\n",
       "      <td>3629</td>\n",
       "      <td>3842</td>\n",
       "      <td>4567</td>\n",
       "      <td>5520</td>\n",
       "      <td>6479</td>\n",
       "      <td>7359</td>\n",
       "      <td>7757</td>\n",
       "    </tr>\n",
       "    <tr>\n",
       "      <th>53228</th>\n",
       "      <td>2</td>\n",
       "      <td>925</td>\n",
       "      <td>1828</td>\n",
       "      <td>2744</td>\n",
       "      <td>3675</td>\n",
       "      <td>3875</td>\n",
       "      <td>4619</td>\n",
       "      <td>5581</td>\n",
       "      <td>6499</td>\n",
       "      <td>7373</td>\n",
       "      <td>7777</td>\n",
       "    </tr>\n",
       "    <tr>\n",
       "      <th>1</th>\n",
       "      <td>3</td>\n",
       "      <td>883</td>\n",
       "      <td>1783</td>\n",
       "      <td>2698</td>\n",
       "      <td>3628</td>\n",
       "      <td>3841</td>\n",
       "      <td>4567</td>\n",
       "      <td>5519</td>\n",
       "      <td>6479</td>\n",
       "      <td>7362</td>\n",
       "      <td>7788</td>\n",
       "    </tr>\n",
       "    <tr>\n",
       "      <th>53229</th>\n",
       "      <td>4</td>\n",
       "      <td>924</td>\n",
       "      <td>1827</td>\n",
       "      <td>2744</td>\n",
       "      <td>3675</td>\n",
       "      <td>3875</td>\n",
       "      <td>4619</td>\n",
       "      <td>5581</td>\n",
       "      <td>6499</td>\n",
       "      <td>7394</td>\n",
       "      <td>7798</td>\n",
       "    </tr>\n",
       "    <tr>\n",
       "      <th>2</th>\n",
       "      <td>5</td>\n",
       "      <td>883</td>\n",
       "      <td>1783</td>\n",
       "      <td>2697</td>\n",
       "      <td>3629</td>\n",
       "      <td>3842</td>\n",
       "      <td>4567</td>\n",
       "      <td>5520</td>\n",
       "      <td>6479</td>\n",
       "      <td>7381</td>\n",
       "      <td>7822</td>\n",
       "    </tr>\n",
       "  </tbody>\n",
       "</table>\n",
       "</div>"
      ],
      "text/plain": [
       "       Rank   5K   10K   15K   20K  Half   25K   30K   35K   40K  \\\n",
       "0         1  883  1783  2697  3629  3842  4567  5520  6479  7359   \n",
       "53228     2  925  1828  2744  3675  3875  4619  5581  6499  7373   \n",
       "1         3  883  1783  2698  3628  3841  4567  5519  6479  7362   \n",
       "53229     4  924  1827  2744  3675  3875  4619  5581  6499  7394   \n",
       "2         5  883  1783  2697  3629  3842  4567  5520  6479  7381   \n",
       "\n",
       "       Official Time  \n",
       "0               7757  \n",
       "53228           7777  \n",
       "1               7788  \n",
       "53229           7798  \n",
       "2               7822  "
      ]
     },
     "execution_count": 114,
     "metadata": {},
     "output_type": "execute_result"
    }
   ],
   "source": [
    "record.head()"
   ]
  },
  {
   "cell_type": "markdown",
   "metadata": {},
   "source": [
    "### 100등까지만 가져오기"
   ]
  },
  {
   "cell_type": "code",
   "execution_count": 115,
   "metadata": {
    "scrolled": true
   },
   "outputs": [
    {
     "data": {
      "text/html": [
       "<div>\n",
       "<style scoped>\n",
       "    .dataframe tbody tr th:only-of-type {\n",
       "        vertical-align: middle;\n",
       "    }\n",
       "\n",
       "    .dataframe tbody tr th {\n",
       "        vertical-align: top;\n",
       "    }\n",
       "\n",
       "    .dataframe thead th {\n",
       "        text-align: right;\n",
       "    }\n",
       "</style>\n",
       "<table border=\"1\" class=\"dataframe\">\n",
       "  <thead>\n",
       "    <tr style=\"text-align: right;\">\n",
       "      <th></th>\n",
       "      <th>Rank</th>\n",
       "      <th>5K</th>\n",
       "      <th>10K</th>\n",
       "      <th>15K</th>\n",
       "      <th>20K</th>\n",
       "      <th>Half</th>\n",
       "      <th>25K</th>\n",
       "      <th>30K</th>\n",
       "      <th>35K</th>\n",
       "      <th>40K</th>\n",
       "      <th>Official Time</th>\n",
       "    </tr>\n",
       "  </thead>\n",
       "  <tbody>\n",
       "    <tr>\n",
       "      <th>0</th>\n",
       "      <td>1</td>\n",
       "      <td>883</td>\n",
       "      <td>1783</td>\n",
       "      <td>2697</td>\n",
       "      <td>3629</td>\n",
       "      <td>3842</td>\n",
       "      <td>4567</td>\n",
       "      <td>5520</td>\n",
       "      <td>6479</td>\n",
       "      <td>7359</td>\n",
       "      <td>7757</td>\n",
       "    </tr>\n",
       "    <tr>\n",
       "      <th>53228</th>\n",
       "      <td>2</td>\n",
       "      <td>925</td>\n",
       "      <td>1828</td>\n",
       "      <td>2744</td>\n",
       "      <td>3675</td>\n",
       "      <td>3875</td>\n",
       "      <td>4619</td>\n",
       "      <td>5581</td>\n",
       "      <td>6499</td>\n",
       "      <td>7373</td>\n",
       "      <td>7777</td>\n",
       "    </tr>\n",
       "    <tr>\n",
       "      <th>1</th>\n",
       "      <td>3</td>\n",
       "      <td>883</td>\n",
       "      <td>1783</td>\n",
       "      <td>2698</td>\n",
       "      <td>3628</td>\n",
       "      <td>3841</td>\n",
       "      <td>4567</td>\n",
       "      <td>5519</td>\n",
       "      <td>6479</td>\n",
       "      <td>7362</td>\n",
       "      <td>7788</td>\n",
       "    </tr>\n",
       "    <tr>\n",
       "      <th>53229</th>\n",
       "      <td>4</td>\n",
       "      <td>924</td>\n",
       "      <td>1827</td>\n",
       "      <td>2744</td>\n",
       "      <td>3675</td>\n",
       "      <td>3875</td>\n",
       "      <td>4619</td>\n",
       "      <td>5581</td>\n",
       "      <td>6499</td>\n",
       "      <td>7394</td>\n",
       "      <td>7798</td>\n",
       "    </tr>\n",
       "    <tr>\n",
       "      <th>2</th>\n",
       "      <td>5</td>\n",
       "      <td>883</td>\n",
       "      <td>1783</td>\n",
       "      <td>2697</td>\n",
       "      <td>3629</td>\n",
       "      <td>3842</td>\n",
       "      <td>4567</td>\n",
       "      <td>5520</td>\n",
       "      <td>6479</td>\n",
       "      <td>7381</td>\n",
       "      <td>7822</td>\n",
       "    </tr>\n",
       "    <tr>\n",
       "      <th>...</th>\n",
       "      <td>...</td>\n",
       "      <td>...</td>\n",
       "      <td>...</td>\n",
       "      <td>...</td>\n",
       "      <td>...</td>\n",
       "      <td>...</td>\n",
       "      <td>...</td>\n",
       "      <td>...</td>\n",
       "      <td>...</td>\n",
       "      <td>...</td>\n",
       "      <td>...</td>\n",
       "    </tr>\n",
       "    <tr>\n",
       "      <th>41</th>\n",
       "      <td>96</td>\n",
       "      <td>1006</td>\n",
       "      <td>2023</td>\n",
       "      <td>3046</td>\n",
       "      <td>4063</td>\n",
       "      <td>4286</td>\n",
       "      <td>5092</td>\n",
       "      <td>6133</td>\n",
       "      <td>7181</td>\n",
       "      <td>8216</td>\n",
       "      <td>8747</td>\n",
       "    </tr>\n",
       "    <tr>\n",
       "      <th>40</th>\n",
       "      <td>97</td>\n",
       "      <td>890</td>\n",
       "      <td>1824</td>\n",
       "      <td>2821</td>\n",
       "      <td>3828</td>\n",
       "      <td>4043</td>\n",
       "      <td>4822</td>\n",
       "      <td>5864</td>\n",
       "      <td>6967</td>\n",
       "      <td>8155</td>\n",
       "      <td>8747</td>\n",
       "    </tr>\n",
       "    <tr>\n",
       "      <th>42</th>\n",
       "      <td>98</td>\n",
       "      <td>959</td>\n",
       "      <td>1952</td>\n",
       "      <td>2985</td>\n",
       "      <td>4015</td>\n",
       "      <td>4246</td>\n",
       "      <td>5061</td>\n",
       "      <td>6120</td>\n",
       "      <td>7197</td>\n",
       "      <td>8273</td>\n",
       "      <td>8758</td>\n",
       "    </tr>\n",
       "    <tr>\n",
       "      <th>53265</th>\n",
       "      <td>99</td>\n",
       "      <td>998</td>\n",
       "      <td>2007</td>\n",
       "      <td>3015</td>\n",
       "      <td>4044</td>\n",
       "      <td>4269</td>\n",
       "      <td>5075</td>\n",
       "      <td>6134</td>\n",
       "      <td>7219</td>\n",
       "      <td>8286</td>\n",
       "      <td>8760</td>\n",
       "    </tr>\n",
       "    <tr>\n",
       "      <th>43</th>\n",
       "      <td>100</td>\n",
       "      <td>1019</td>\n",
       "      <td>2064</td>\n",
       "      <td>3109</td>\n",
       "      <td>4141</td>\n",
       "      <td>4366</td>\n",
       "      <td>5169</td>\n",
       "      <td>6204</td>\n",
       "      <td>7250</td>\n",
       "      <td>8282</td>\n",
       "      <td>8765</td>\n",
       "    </tr>\n",
       "  </tbody>\n",
       "</table>\n",
       "<p>100 rows × 11 columns</p>\n",
       "</div>"
      ],
      "text/plain": [
       "       Rank    5K   10K   15K   20K  Half   25K   30K   35K   40K  \\\n",
       "0         1   883  1783  2697  3629  3842  4567  5520  6479  7359   \n",
       "53228     2   925  1828  2744  3675  3875  4619  5581  6499  7373   \n",
       "1         3   883  1783  2698  3628  3841  4567  5519  6479  7362   \n",
       "53229     4   924  1827  2744  3675  3875  4619  5581  6499  7394   \n",
       "2         5   883  1783  2697  3629  3842  4567  5520  6479  7381   \n",
       "...     ...   ...   ...   ...   ...   ...   ...   ...   ...   ...   \n",
       "41       96  1006  2023  3046  4063  4286  5092  6133  7181  8216   \n",
       "40       97   890  1824  2821  3828  4043  4822  5864  6967  8155   \n",
       "42       98   959  1952  2985  4015  4246  5061  6120  7197  8273   \n",
       "53265    99   998  2007  3015  4044  4269  5075  6134  7219  8286   \n",
       "43      100  1019  2064  3109  4141  4366  5169  6204  7250  8282   \n",
       "\n",
       "       Official Time  \n",
       "0               7757  \n",
       "53228           7777  \n",
       "1               7788  \n",
       "53229           7798  \n",
       "2               7822  \n",
       "...              ...  \n",
       "41              8747  \n",
       "40              8747  \n",
       "42              8758  \n",
       "53265           8760  \n",
       "43              8765  \n",
       "\n",
       "[100 rows x 11 columns]"
      ]
     },
     "execution_count": 115,
     "metadata": {},
     "output_type": "execute_result"
    }
   ],
   "source": [
    "top100 = record[0:100]\n",
    "top100"
   ]
  },
  {
   "cell_type": "code",
   "execution_count": 116,
   "metadata": {
    "scrolled": true
   },
   "outputs": [
    {
     "data": {
      "text/plain": [
       "0          1\n",
       "53228      2\n",
       "1          3\n",
       "53229      4\n",
       "2          5\n",
       "        ... \n",
       "41        96\n",
       "40        97\n",
       "42        98\n",
       "53265     99\n",
       "43       100\n",
       "Name: Rank, Length: 100, dtype: int32"
      ]
     },
     "execution_count": 116,
     "metadata": {},
     "output_type": "execute_result"
    }
   ],
   "source": [
    "xData = top100.Rank\n",
    "xData"
   ]
  },
  {
   "cell_type": "code",
   "execution_count": 117,
   "metadata": {},
   "outputs": [],
   "source": [
    "yData_full = top100['Official Time']\n",
    "yData_10K = top100['10K']\n",
    "yData_20K = top100['20K']\n",
    "yData_30K = top100['30K']"
   ]
  },
  {
   "cell_type": "markdown",
   "metadata": {},
   "source": [
    "### Line chart 그리기"
   ]
  },
  {
   "cell_type": "raw",
   "metadata": {},
   "source": [
    "1~100등까지의 풀타임, 30K, 20K, 10K 기록, "
   ]
  },
  {
   "cell_type": "code",
   "execution_count": 122,
   "metadata": {},
   "outputs": [
    {
     "data": {
      "image/png": "[encoded data removed]",
      "text/plain": [
       "<Figure size 360x576 with 1 Axes>"
      ]
     },
     "metadata": {
      "needs_background": "light"
     },
     "output_type": "display_data"
    }
   ],
   "source": [
    "plt.figure(figsize=(5, 8))\n",
    "\n",
    "plt.plot(xData, yData_full)\n",
    "plt.plot(xData, yData_30K)\n",
    "plt.plot(xData, yData_20K)\n",
    "plt.plot(xData, yData_10K)\n",
    "\n",
    "# 레전드 달기\n",
    "plt.legend(['Full', '30K', '20K', '10K'], loc='upper left')\n",
    "\n",
    "plt.show()"
   ]
  },
  {
   "cell_type": "markdown",
   "metadata": {},
   "source": [
    "# 5. Scatter chart (산포도)"
   ]
  },
  {
   "cell_type": "raw",
   "metadata": {},
   "source": [
    "Scatter 사용처 : 머신러닝에서 변수 간 상관관계(correlation) 파악 ex) 선형회귀 / 산포도 점으로 분포성향 파악 . 비례/ 반비례/ 상관X/ 파악."
   ]
  },
  {
   "cell_type": "code",
   "execution_count": 127,
   "metadata": {},
   "outputs": [],
   "source": [
    "marathon_2015_2017 = pd.read_csv('data/marathon_2015_2017.csv')"
   ]
  },
  {
   "cell_type": "code",
   "execution_count": 128,
   "metadata": {},
   "outputs": [
    {
     "name": "stdout",
     "output_type": "stream",
     "text": [
      "<class 'pandas.core.frame.DataFrame'>\n",
      "RangeIndex: 79638 entries, 0 to 79637\n",
      "Data columns (total 21 columns):\n",
      " #   Column         Non-Null Count  Dtype \n",
      "---  ------         --------------  ----- \n",
      " 0   Name           79638 non-null  object\n",
      " 1   Age            79638 non-null  int64 \n",
      " 2   M/F            79638 non-null  object\n",
      " 3   City           79637 non-null  object\n",
      " 4   State          70645 non-null  object\n",
      " 5   Country        79638 non-null  object\n",
      " 6   5K             79638 non-null  int64 \n",
      " 7   10K            79638 non-null  int64 \n",
      " 8   15K            79638 non-null  int64 \n",
      " 9   20K            79638 non-null  int64 \n",
      " 10  Half           79638 non-null  int64 \n",
      " 11  25K            79638 non-null  int64 \n",
      " 12  30K            79638 non-null  int64 \n",
      " 13  35K            79638 non-null  int64 \n",
      " 14  40K            79638 non-null  int64 \n",
      " 15  Pace           79638 non-null  int64 \n",
      " 16  Official Time  79638 non-null  int64 \n",
      " 17  Overall        79638 non-null  int64 \n",
      " 18  Gender         79638 non-null  int64 \n",
      " 19  Division       79638 non-null  int64 \n",
      " 20  Year           79638 non-null  int64 \n",
      "dtypes: int64(16), object(5)\n",
      "memory usage: 12.8+ MB\n"
     ]
    }
   ],
   "source": [
    "marathon_2015_2017.info()"
   ]
  },
  {
   "cell_type": "code",
   "execution_count": 132,
   "metadata": {},
   "outputs": [
    {
     "data": {
      "text/plain": [
       "0        M\n",
       "1        M\n",
       "2        M\n",
       "3        M\n",
       "4        M\n",
       "        ..\n",
       "79633    F\n",
       "79634    M\n",
       "79635    F\n",
       "79636    M\n",
       "79637    M\n",
       "Name: M/F, Length: 79638, dtype: object"
      ]
     },
     "execution_count": 132,
     "metadata": {},
     "output_type": "execute_result"
    }
   ],
   "source": [
    "marathon_2015_2017['M/F']"
   ]
  },
  {
   "cell_type": "code",
   "execution_count": 133,
   "metadata": {},
   "outputs": [],
   "source": [
    "#조건걸어서 데이터 찍어보기 . \n",
    "MALE_runner = marathon_2015_2017[marathon_2015_2017['M/F']=='M'] #남자의 데이터 변수설정\n",
    "FEMALE_runner = marathon_2015_2017[marathon_2015_2017['M/F']=='F'] #여자의 데이터만 변수설정"
   ]
  },
  {
   "cell_type": "code",
   "execution_count": 137,
   "metadata": {},
   "outputs": [
    {
     "name": "stdout",
     "output_type": "stream",
     "text": [
      "43482\n",
      "36156\n"
     ]
    }
   ],
   "source": [
    "print(len(MALE_runner))\n",
    "print(len(FEMALE_runner))"
   ]
  },
  {
   "cell_type": "code",
   "execution_count": 138,
   "metadata": {},
   "outputs": [
    {
     "data": {
      "text/html": [
       "<div>\n",
       "<style scoped>\n",
       "    .dataframe tbody tr th:only-of-type {\n",
       "        vertical-align: middle;\n",
       "    }\n",
       "\n",
       "    .dataframe tbody tr th {\n",
       "        vertical-align: top;\n",
       "    }\n",
       "\n",
       "    .dataframe thead th {\n",
       "        text-align: right;\n",
       "    }\n",
       "</style>\n",
       "<table border=\"1\" class=\"dataframe\">\n",
       "  <thead>\n",
       "    <tr style=\"text-align: right;\">\n",
       "      <th></th>\n",
       "      <th>Name</th>\n",
       "      <th>Age</th>\n",
       "      <th>M/F</th>\n",
       "      <th>City</th>\n",
       "      <th>State</th>\n",
       "      <th>Country</th>\n",
       "      <th>5K</th>\n",
       "      <th>10K</th>\n",
       "      <th>15K</th>\n",
       "      <th>20K</th>\n",
       "      <th>...</th>\n",
       "      <th>25K</th>\n",
       "      <th>30K</th>\n",
       "      <th>35K</th>\n",
       "      <th>40K</th>\n",
       "      <th>Pace</th>\n",
       "      <th>Official Time</th>\n",
       "      <th>Overall</th>\n",
       "      <th>Gender</th>\n",
       "      <th>Division</th>\n",
       "      <th>Year</th>\n",
       "    </tr>\n",
       "  </thead>\n",
       "  <tbody>\n",
       "    <tr>\n",
       "      <th>30</th>\n",
       "      <td>Rotich, Caroline</td>\n",
       "      <td>30</td>\n",
       "      <td>F</td>\n",
       "      <td>Nyahururu</td>\n",
       "      <td>NaN</td>\n",
       "      <td>KEN</td>\n",
       "      <td>1019</td>\n",
       "      <td>2064</td>\n",
       "      <td>3109</td>\n",
       "      <td>4140</td>\n",
       "      <td>...</td>\n",
       "      <td>5168</td>\n",
       "      <td>6204</td>\n",
       "      <td>7250</td>\n",
       "      <td>8250</td>\n",
       "      <td>332</td>\n",
       "      <td>8695</td>\n",
       "      <td>31</td>\n",
       "      <td>1</td>\n",
       "      <td>1</td>\n",
       "      <td>2015</td>\n",
       "    </tr>\n",
       "    <tr>\n",
       "      <th>31</th>\n",
       "      <td>Dibaba, Mare</td>\n",
       "      <td>25</td>\n",
       "      <td>F</td>\n",
       "      <td>Shoa</td>\n",
       "      <td>NaN</td>\n",
       "      <td>ETH</td>\n",
       "      <td>1018</td>\n",
       "      <td>2063</td>\n",
       "      <td>3108</td>\n",
       "      <td>4140</td>\n",
       "      <td>...</td>\n",
       "      <td>5168</td>\n",
       "      <td>6203</td>\n",
       "      <td>7250</td>\n",
       "      <td>8250</td>\n",
       "      <td>332</td>\n",
       "      <td>8699</td>\n",
       "      <td>32</td>\n",
       "      <td>2</td>\n",
       "      <td>2</td>\n",
       "      <td>2015</td>\n",
       "    </tr>\n",
       "    <tr>\n",
       "      <th>33</th>\n",
       "      <td>Deba, Buzunesh</td>\n",
       "      <td>27</td>\n",
       "      <td>F</td>\n",
       "      <td>Arsi</td>\n",
       "      <td>NaN</td>\n",
       "      <td>ETH</td>\n",
       "      <td>1017</td>\n",
       "      <td>2063</td>\n",
       "      <td>3109</td>\n",
       "      <td>4141</td>\n",
       "      <td>...</td>\n",
       "      <td>5169</td>\n",
       "      <td>6204</td>\n",
       "      <td>7250</td>\n",
       "      <td>8250</td>\n",
       "      <td>333</td>\n",
       "      <td>8709</td>\n",
       "      <td>34</td>\n",
       "      <td>3</td>\n",
       "      <td>3</td>\n",
       "      <td>2015</td>\n",
       "    </tr>\n",
       "    <tr>\n",
       "      <th>39</th>\n",
       "      <td>Linden, Desiree</td>\n",
       "      <td>31</td>\n",
       "      <td>F</td>\n",
       "      <td>Rochester Mills</td>\n",
       "      <td>MI</td>\n",
       "      <td>USA</td>\n",
       "      <td>1020</td>\n",
       "      <td>2064</td>\n",
       "      <td>3108</td>\n",
       "      <td>4140</td>\n",
       "      <td>...</td>\n",
       "      <td>5168</td>\n",
       "      <td>6203</td>\n",
       "      <td>7249</td>\n",
       "      <td>8271</td>\n",
       "      <td>334</td>\n",
       "      <td>8739</td>\n",
       "      <td>40</td>\n",
       "      <td>4</td>\n",
       "      <td>4</td>\n",
       "      <td>2015</td>\n",
       "    </tr>\n",
       "    <tr>\n",
       "      <th>43</th>\n",
       "      <td>Cherop, Sharon</td>\n",
       "      <td>31</td>\n",
       "      <td>F</td>\n",
       "      <td>Marakwet</td>\n",
       "      <td>NaN</td>\n",
       "      <td>KEN</td>\n",
       "      <td>1019</td>\n",
       "      <td>2064</td>\n",
       "      <td>3109</td>\n",
       "      <td>4141</td>\n",
       "      <td>...</td>\n",
       "      <td>5169</td>\n",
       "      <td>6204</td>\n",
       "      <td>7250</td>\n",
       "      <td>8282</td>\n",
       "      <td>335</td>\n",
       "      <td>8765</td>\n",
       "      <td>44</td>\n",
       "      <td>5</td>\n",
       "      <td>5</td>\n",
       "      <td>2015</td>\n",
       "    </tr>\n",
       "  </tbody>\n",
       "</table>\n",
       "<p>5 rows × 21 columns</p>\n",
       "</div>"
      ],
      "text/plain": [
       "                Name  Age M/F             City State Country    5K   10K  \\\n",
       "30  Rotich, Caroline   30   F        Nyahururu   NaN     KEN  1019  2064   \n",
       "31      Dibaba, Mare   25   F             Shoa   NaN     ETH  1018  2063   \n",
       "33    Deba, Buzunesh   27   F             Arsi   NaN     ETH  1017  2063   \n",
       "39   Linden, Desiree   31   F  Rochester Mills    MI     USA  1020  2064   \n",
       "43    Cherop, Sharon   31   F         Marakwet   NaN     KEN  1019  2064   \n",
       "\n",
       "     15K   20K  ...   25K   30K   35K   40K  Pace  Official Time  Overall  \\\n",
       "30  3109  4140  ...  5168  6204  7250  8250   332           8695       31   \n",
       "31  3108  4140  ...  5168  6203  7250  8250   332           8699       32   \n",
       "33  3109  4141  ...  5169  6204  7250  8250   333           8709       34   \n",
       "39  3108  4140  ...  5168  6203  7249  8271   334           8739       40   \n",
       "43  3109  4141  ...  5169  6204  7250  8282   335           8765       44   \n",
       "\n",
       "    Gender  Division  Year  \n",
       "30       1         1  2015  \n",
       "31       2         2  2015  \n",
       "33       3         3  2015  \n",
       "39       4         4  2015  \n",
       "43       5         5  2015  \n",
       "\n",
       "[5 rows x 21 columns]"
      ]
     },
     "execution_count": 138,
     "metadata": {},
     "output_type": "execute_result"
    }
   ],
   "source": [
    "FEMALE_runner.head()"
   ]
  },
  {
   "cell_type": "code",
   "execution_count": 139,
   "metadata": {},
   "outputs": [],
   "source": [
    "#남자 나이 , 경기기록 변수명 설정\n",
    "x_male = MALE_runner.Age\n",
    "y_male = MALE_runner['Official Time']\n",
    "#여자 나이 , 경기기록 변수명 설정\n",
    "x_female = FEMALE_runner.Age\n",
    "y_female = FEMALE_runner['Official Time']"
   ]
  },
  {
   "cell_type": "code",
   "execution_count": 140,
   "metadata": {
    "scrolled": true
   },
   "outputs": [
    {
     "data": {
      "text/plain": [
       "30        8695\n",
       "31        8699\n",
       "33        8709\n",
       "39        8739\n",
       "43        8765\n",
       "         ...  \n",
       "79613    22564\n",
       "79624    23905\n",
       "79627    24390\n",
       "79633    25779\n",
       "79635    26377\n",
       "Name: Official Time, Length: 36156, dtype: int64"
      ]
     },
     "execution_count": 140,
     "metadata": {},
     "output_type": "execute_result"
    }
   ],
   "source": [
    "y_female"
   ]
  },
  {
   "cell_type": "markdown",
   "metadata": {},
   "source": [
    "### Scatter chart 그리기"
   ]
  },
  {
   "cell_type": "code",
   "execution_count": 149,
   "metadata": {},
   "outputs": [
    {
     "data": {
      "image/png": "[encoded data removed]",
      "text/plain": [
       "<Figure size 576x576 with 1 Axes>"
      ]
     },
     "metadata": {
      "needs_background": "light"
     },
     "output_type": "display_data"
    }
   ],
   "source": [
    "# figure size 지정\n",
    "plt.figure(figsize=(8, 8))\n",
    "\n",
    "plt.plot(x_male, y_male, '>', color='g', alpha=0.5)\n",
    "plt.plot(x_female, y_female, '>', color='r', alpha=0.5)\n",
    "\n",
    "# label과 title 정하기\n",
    "plt.xlabel('Age', fontsize=30)\n",
    "plt.ylabel('Official Time(second)', fontsize=30)\n",
    "plt.title('Distribution by Running time and Age', fontsize=30)\n",
    "\n",
    "plt.legend(['Male', 'Female'], loc='upper left')\n",
    "\n",
    "plt.show()"
   ]
  },
  {
   "cell_type": "markdown",
   "metadata": {},
   "source": [
    "# 6. Bubble chart(그룹을 지어서 보여주기 좋음)"
   ]
  },
  {
   "cell_type": "raw",
   "metadata": {},
   "source": [
    "상황 : 2017년 보스톤 마라톤 비상상황에서 앰뷸런스 5대를 어디에 배치시키는 것이 좋을까\n",
    "5K, 10K, 15K, 20K, 25K, 30K, 35K, 40K 8개 지점 중 어디가 적합할지 찾아보자\n",
    "사람들이 많이 모이는 지점을 찾기"
   ]
  },
  {
   "cell_type": "code",
   "execution_count": 150,
   "metadata": {},
   "outputs": [
    {
     "data": {
      "text/plain": [
       "'C:\\\\Users\\\\USER\\\\Desktop\\\\아카이브\\\\마라톤데이터_ch2.시각화'"
      ]
     },
     "execution_count": 150,
     "metadata": {},
     "output_type": "execute_result"
    }
   ],
   "source": [
    "pwd"
   ]
  },
  {
   "cell_type": "code",
   "execution_count": 152,
   "metadata": {},
   "outputs": [],
   "source": [
    "marathon_results_2017 = pd.read_csv('data/marathon_results_2017.csv')"
   ]
  },
  {
   "cell_type": "code",
   "execution_count": 153,
   "metadata": {},
   "outputs": [
    {
     "name": "stdout",
     "output_type": "stream",
     "text": [
      "<class 'pandas.core.frame.DataFrame'>\n",
      "RangeIndex: 26410 entries, 0 to 26409\n",
      "Data columns (total 25 columns):\n",
      " #   Column         Non-Null Count  Dtype \n",
      "---  ------         --------------  ----- \n",
      " 0   Unnamed: 0     26410 non-null  int64 \n",
      " 1   Bib            26410 non-null  object\n",
      " 2   Name           26410 non-null  object\n",
      " 3   Age            26410 non-null  int64 \n",
      " 4   M/F            26410 non-null  object\n",
      " 5   City           26410 non-null  object\n",
      " 6   State          22815 non-null  object\n",
      " 7   Country        26410 non-null  object\n",
      " 8   Citizen        1254 non-null   object\n",
      " 9   Unnamed: 9     91 non-null     object\n",
      " 10  5K             26410 non-null  object\n",
      " 11  10K            26410 non-null  object\n",
      " 12  15K            26410 non-null  object\n",
      " 13  20K            26410 non-null  object\n",
      " 14  Half           26410 non-null  object\n",
      " 15  25K            26410 non-null  object\n",
      " 16  30K            26410 non-null  object\n",
      " 17  35K            26410 non-null  object\n",
      " 18  40K            26410 non-null  object\n",
      " 19  Pace           26410 non-null  object\n",
      " 20  Proj Time      26410 non-null  object\n",
      " 21  Official Time  26410 non-null  object\n",
      " 22  Overall        26410 non-null  int64 \n",
      " 23  Gender         26410 non-null  int64 \n",
      " 24  Division       26410 non-null  int64 \n",
      "dtypes: int64(5), object(20)\n",
      "memory usage: 5.0+ MB\n"
     ]
    }
   ],
   "source": [
    "marathon_results_2017.info()"
   ]
  },
  {
   "cell_type": "code",
   "execution_count": 154,
   "metadata": {},
   "outputs": [],
   "source": [
    "marathon_2017 = marathon_results_2017.drop(['Unnamed: 0', 'Bib', 'Citizen', 'Unnamed: 9', 'Proj Time'], axis='columns')"
   ]
  },
  {
   "cell_type": "code",
   "execution_count": 155,
   "metadata": {},
   "outputs": [
    {
     "data": {
      "text/html": [
       "<div>\n",
       "<style scoped>\n",
       "    .dataframe tbody tr th:only-of-type {\n",
       "        vertical-align: middle;\n",
       "    }\n",
       "\n",
       "    .dataframe tbody tr th {\n",
       "        vertical-align: top;\n",
       "    }\n",
       "\n",
       "    .dataframe thead th {\n",
       "        text-align: right;\n",
       "    }\n",
       "</style>\n",
       "<table border=\"1\" class=\"dataframe\">\n",
       "  <thead>\n",
       "    <tr style=\"text-align: right;\">\n",
       "      <th></th>\n",
       "      <th>Name</th>\n",
       "      <th>Age</th>\n",
       "      <th>M/F</th>\n",
       "      <th>City</th>\n",
       "      <th>State</th>\n",
       "      <th>Country</th>\n",
       "      <th>5K</th>\n",
       "      <th>10K</th>\n",
       "      <th>15K</th>\n",
       "      <th>20K</th>\n",
       "      <th>Half</th>\n",
       "      <th>25K</th>\n",
       "      <th>30K</th>\n",
       "      <th>35K</th>\n",
       "      <th>40K</th>\n",
       "      <th>Pace</th>\n",
       "      <th>Official Time</th>\n",
       "      <th>Overall</th>\n",
       "      <th>Gender</th>\n",
       "      <th>Division</th>\n",
       "    </tr>\n",
       "  </thead>\n",
       "  <tbody>\n",
       "    <tr>\n",
       "      <th>0</th>\n",
       "      <td>Kirui, Geoffrey</td>\n",
       "      <td>24</td>\n",
       "      <td>M</td>\n",
       "      <td>Keringet</td>\n",
       "      <td>NaN</td>\n",
       "      <td>KEN</td>\n",
       "      <td>0:15:25</td>\n",
       "      <td>0:30:28</td>\n",
       "      <td>0:45:44</td>\n",
       "      <td>1:01:15</td>\n",
       "      <td>1:04:35</td>\n",
       "      <td>1:16:59</td>\n",
       "      <td>1:33:01</td>\n",
       "      <td>1:48:19</td>\n",
       "      <td>2:02:53</td>\n",
       "      <td>0:04:57</td>\n",
       "      <td>2:09:37</td>\n",
       "      <td>1</td>\n",
       "      <td>1</td>\n",
       "      <td>1</td>\n",
       "    </tr>\n",
       "    <tr>\n",
       "      <th>1</th>\n",
       "      <td>Rupp, Galen</td>\n",
       "      <td>30</td>\n",
       "      <td>M</td>\n",
       "      <td>Portland</td>\n",
       "      <td>OR</td>\n",
       "      <td>USA</td>\n",
       "      <td>0:15:24</td>\n",
       "      <td>0:30:27</td>\n",
       "      <td>0:45:44</td>\n",
       "      <td>1:01:15</td>\n",
       "      <td>1:04:35</td>\n",
       "      <td>1:16:59</td>\n",
       "      <td>1:33:01</td>\n",
       "      <td>1:48:19</td>\n",
       "      <td>2:03:14</td>\n",
       "      <td>0:04:58</td>\n",
       "      <td>2:09:58</td>\n",
       "      <td>2</td>\n",
       "      <td>2</td>\n",
       "      <td>2</td>\n",
       "    </tr>\n",
       "    <tr>\n",
       "      <th>2</th>\n",
       "      <td>Osako, Suguru</td>\n",
       "      <td>25</td>\n",
       "      <td>M</td>\n",
       "      <td>Machida-City</td>\n",
       "      <td>NaN</td>\n",
       "      <td>JPN</td>\n",
       "      <td>0:15:25</td>\n",
       "      <td>0:30:29</td>\n",
       "      <td>0:45:44</td>\n",
       "      <td>1:01:16</td>\n",
       "      <td>1:04:36</td>\n",
       "      <td>1:17:00</td>\n",
       "      <td>1:33:01</td>\n",
       "      <td>1:48:31</td>\n",
       "      <td>2:03:38</td>\n",
       "      <td>0:04:59</td>\n",
       "      <td>2:10:28</td>\n",
       "      <td>3</td>\n",
       "      <td>3</td>\n",
       "      <td>3</td>\n",
       "    </tr>\n",
       "    <tr>\n",
       "      <th>3</th>\n",
       "      <td>Biwott, Shadrack</td>\n",
       "      <td>32</td>\n",
       "      <td>M</td>\n",
       "      <td>Mammoth Lakes</td>\n",
       "      <td>CA</td>\n",
       "      <td>USA</td>\n",
       "      <td>0:15:25</td>\n",
       "      <td>0:30:29</td>\n",
       "      <td>0:45:44</td>\n",
       "      <td>1:01:19</td>\n",
       "      <td>1:04:45</td>\n",
       "      <td>1:17:00</td>\n",
       "      <td>1:33:01</td>\n",
       "      <td>1:48:58</td>\n",
       "      <td>2:04:35</td>\n",
       "      <td>0:05:03</td>\n",
       "      <td>2:12:08</td>\n",
       "      <td>4</td>\n",
       "      <td>4</td>\n",
       "      <td>4</td>\n",
       "    </tr>\n",
       "    <tr>\n",
       "      <th>4</th>\n",
       "      <td>Chebet, Wilson</td>\n",
       "      <td>31</td>\n",
       "      <td>M</td>\n",
       "      <td>Marakwet</td>\n",
       "      <td>NaN</td>\n",
       "      <td>KEN</td>\n",
       "      <td>0:15:25</td>\n",
       "      <td>0:30:28</td>\n",
       "      <td>0:45:44</td>\n",
       "      <td>1:01:15</td>\n",
       "      <td>1:04:35</td>\n",
       "      <td>1:16:59</td>\n",
       "      <td>1:33:01</td>\n",
       "      <td>1:48:41</td>\n",
       "      <td>2:05:00</td>\n",
       "      <td>0:05:04</td>\n",
       "      <td>2:12:35</td>\n",
       "      <td>5</td>\n",
       "      <td>5</td>\n",
       "      <td>5</td>\n",
       "    </tr>\n",
       "  </tbody>\n",
       "</table>\n",
       "</div>"
      ],
      "text/plain": [
       "               Name  Age M/F           City State Country       5K      10K  \\\n",
       "0   Kirui, Geoffrey   24   M       Keringet   NaN     KEN  0:15:25  0:30:28   \n",
       "1       Rupp, Galen   30   M       Portland    OR     USA  0:15:24  0:30:27   \n",
       "2     Osako, Suguru   25   M   Machida-City   NaN     JPN  0:15:25  0:30:29   \n",
       "3  Biwott, Shadrack   32   M  Mammoth Lakes    CA     USA  0:15:25  0:30:29   \n",
       "4    Chebet, Wilson   31   M       Marakwet   NaN     KEN  0:15:25  0:30:28   \n",
       "\n",
       "       15K      20K     Half      25K      30K      35K      40K     Pace  \\\n",
       "0  0:45:44  1:01:15  1:04:35  1:16:59  1:33:01  1:48:19  2:02:53  0:04:57   \n",
       "1  0:45:44  1:01:15  1:04:35  1:16:59  1:33:01  1:48:19  2:03:14  0:04:58   \n",
       "2  0:45:44  1:01:16  1:04:36  1:17:00  1:33:01  1:48:31  2:03:38  0:04:59   \n",
       "3  0:45:44  1:01:19  1:04:45  1:17:00  1:33:01  1:48:58  2:04:35  0:05:03   \n",
       "4  0:45:44  1:01:15  1:04:35  1:16:59  1:33:01  1:48:41  2:05:00  0:05:04   \n",
       "\n",
       "  Official Time  Overall  Gender  Division  \n",
       "0       2:09:37        1       1         1  \n",
       "1       2:09:58        2       2         2  \n",
       "2       2:10:28        3       3         3  \n",
       "3       2:12:08        4       4         4  \n",
       "4       2:12:35        5       5         5  "
      ]
     },
     "execution_count": 155,
     "metadata": {},
     "output_type": "execute_result"
    }
   ],
   "source": [
    "marathon_2017.head()"
   ]
  },
  {
   "cell_type": "markdown",
   "metadata": {},
   "source": [
    "### 초 단위로 바꾸기 :  to_timedelta\n"
   ]
  },
  {
   "cell_type": "code",
   "execution_count": 156,
   "metadata": {},
   "outputs": [],
   "source": [
    "# pd.to_timedelt() 적용하기\n",
    "# .astype('m8[s]').astype(np.int64) 적용하기\n",
    "# -> 초단위로 바꾼 후, int 형태로 변환\n",
    "marathon_2017['5K'] = pd.to_timedelta(marathon_2017['5K']).astype('m8[s]').astype(np.int64)\n",
    "marathon_2017['10K'] = pd.to_timedelta(marathon_2017['10K']).astype('m8[s]').astype(np.int64)\n",
    "marathon_2017['15K'] = pd.to_timedelta(marathon_2017['15K']).astype('m8[s]').astype(np.int64)\n",
    "marathon_2017['20K'] = pd.to_timedelta(marathon_2017['20K']).astype('m8[s]').astype(np.int64)\n",
    "marathon_2017['Half'] = pd.to_timedelta(marathon_2017['Half']).astype('m8[s]').astype(np.int64)\n",
    "marathon_2017['25K'] = pd.to_timedelta(marathon_2017['25K']).astype('m8[s]').astype(np.int64)\n",
    "marathon_2017['30K'] = pd.to_timedelta(marathon_2017['30K']).astype('m8[s]').astype(np.int64)\n",
    "marathon_2017['35K'] = pd.to_timedelta(marathon_2017['35K']).astype('m8[s]').astype(np.int64)\n",
    "marathon_2017['40K'] = pd.to_timedelta(marathon_2017['40K']).astype('m8[s]').astype(np.int64)\n",
    "marathon_2017['Pace'] = pd.to_timedelta(marathon_2017['Pace']).astype('m8[s]').astype(np.int64)\n",
    "marathon_2017['Official Time'] = pd.to_timedelta(marathon_2017['Official Time']).astype('m8[s]').astype(np.int64)"
   ]
  },
  {
   "cell_type": "code",
   "execution_count": 157,
   "metadata": {},
   "outputs": [
    {
     "name": "stdout",
     "output_type": "stream",
     "text": [
      "<class 'pandas.core.frame.DataFrame'>\n",
      "RangeIndex: 26410 entries, 0 to 26409\n",
      "Data columns (total 20 columns):\n",
      " #   Column         Non-Null Count  Dtype \n",
      "---  ------         --------------  ----- \n",
      " 0   Name           26410 non-null  object\n",
      " 1   Age            26410 non-null  int64 \n",
      " 2   M/F            26410 non-null  object\n",
      " 3   City           26410 non-null  object\n",
      " 4   State          22815 non-null  object\n",
      " 5   Country        26410 non-null  object\n",
      " 6   5K             26410 non-null  int64 \n",
      " 7   10K            26410 non-null  int64 \n",
      " 8   15K            26410 non-null  int64 \n",
      " 9   20K            26410 non-null  int64 \n",
      " 10  Half           26410 non-null  int64 \n",
      " 11  25K            26410 non-null  int64 \n",
      " 12  30K            26410 non-null  int64 \n",
      " 13  35K            26410 non-null  int64 \n",
      " 14  40K            26410 non-null  int64 \n",
      " 15  Pace           26410 non-null  int64 \n",
      " 16  Official Time  26410 non-null  int64 \n",
      " 17  Overall        26410 non-null  int64 \n",
      " 18  Gender         26410 non-null  int64 \n",
      " 19  Division       26410 non-null  int64 \n",
      "dtypes: int64(15), object(5)\n",
      "memory usage: 4.0+ MB\n"
     ]
    }
   ],
   "source": [
    "marathon_2017.info()"
   ]
  },
  {
   "cell_type": "code",
   "execution_count": 158,
   "metadata": {},
   "outputs": [
    {
     "data": {
      "text/html": [
       "<div>\n",
       "<style scoped>\n",
       "    .dataframe tbody tr th:only-of-type {\n",
       "        vertical-align: middle;\n",
       "    }\n",
       "\n",
       "    .dataframe tbody tr th {\n",
       "        vertical-align: top;\n",
       "    }\n",
       "\n",
       "    .dataframe thead th {\n",
       "        text-align: right;\n",
       "    }\n",
       "</style>\n",
       "<table border=\"1\" class=\"dataframe\">\n",
       "  <thead>\n",
       "    <tr style=\"text-align: right;\">\n",
       "      <th></th>\n",
       "      <th>Name</th>\n",
       "      <th>Age</th>\n",
       "      <th>M/F</th>\n",
       "      <th>City</th>\n",
       "      <th>State</th>\n",
       "      <th>Country</th>\n",
       "      <th>5K</th>\n",
       "      <th>10K</th>\n",
       "      <th>15K</th>\n",
       "      <th>20K</th>\n",
       "      <th>Half</th>\n",
       "      <th>25K</th>\n",
       "      <th>30K</th>\n",
       "      <th>35K</th>\n",
       "      <th>40K</th>\n",
       "      <th>Pace</th>\n",
       "      <th>Official Time</th>\n",
       "      <th>Overall</th>\n",
       "      <th>Gender</th>\n",
       "      <th>Division</th>\n",
       "    </tr>\n",
       "  </thead>\n",
       "  <tbody>\n",
       "    <tr>\n",
       "      <th>0</th>\n",
       "      <td>Kirui, Geoffrey</td>\n",
       "      <td>24</td>\n",
       "      <td>M</td>\n",
       "      <td>Keringet</td>\n",
       "      <td>NaN</td>\n",
       "      <td>KEN</td>\n",
       "      <td>925</td>\n",
       "      <td>1828</td>\n",
       "      <td>2744</td>\n",
       "      <td>3675</td>\n",
       "      <td>3875</td>\n",
       "      <td>4619</td>\n",
       "      <td>5581</td>\n",
       "      <td>6499</td>\n",
       "      <td>7373</td>\n",
       "      <td>297</td>\n",
       "      <td>7777</td>\n",
       "      <td>1</td>\n",
       "      <td>1</td>\n",
       "      <td>1</td>\n",
       "    </tr>\n",
       "    <tr>\n",
       "      <th>1</th>\n",
       "      <td>Rupp, Galen</td>\n",
       "      <td>30</td>\n",
       "      <td>M</td>\n",
       "      <td>Portland</td>\n",
       "      <td>OR</td>\n",
       "      <td>USA</td>\n",
       "      <td>924</td>\n",
       "      <td>1827</td>\n",
       "      <td>2744</td>\n",
       "      <td>3675</td>\n",
       "      <td>3875</td>\n",
       "      <td>4619</td>\n",
       "      <td>5581</td>\n",
       "      <td>6499</td>\n",
       "      <td>7394</td>\n",
       "      <td>298</td>\n",
       "      <td>7798</td>\n",
       "      <td>2</td>\n",
       "      <td>2</td>\n",
       "      <td>2</td>\n",
       "    </tr>\n",
       "    <tr>\n",
       "      <th>2</th>\n",
       "      <td>Osako, Suguru</td>\n",
       "      <td>25</td>\n",
       "      <td>M</td>\n",
       "      <td>Machida-City</td>\n",
       "      <td>NaN</td>\n",
       "      <td>JPN</td>\n",
       "      <td>925</td>\n",
       "      <td>1829</td>\n",
       "      <td>2744</td>\n",
       "      <td>3676</td>\n",
       "      <td>3876</td>\n",
       "      <td>4620</td>\n",
       "      <td>5581</td>\n",
       "      <td>6511</td>\n",
       "      <td>7418</td>\n",
       "      <td>299</td>\n",
       "      <td>7828</td>\n",
       "      <td>3</td>\n",
       "      <td>3</td>\n",
       "      <td>3</td>\n",
       "    </tr>\n",
       "    <tr>\n",
       "      <th>3</th>\n",
       "      <td>Biwott, Shadrack</td>\n",
       "      <td>32</td>\n",
       "      <td>M</td>\n",
       "      <td>Mammoth Lakes</td>\n",
       "      <td>CA</td>\n",
       "      <td>USA</td>\n",
       "      <td>925</td>\n",
       "      <td>1829</td>\n",
       "      <td>2744</td>\n",
       "      <td>3679</td>\n",
       "      <td>3885</td>\n",
       "      <td>4620</td>\n",
       "      <td>5581</td>\n",
       "      <td>6538</td>\n",
       "      <td>7475</td>\n",
       "      <td>303</td>\n",
       "      <td>7928</td>\n",
       "      <td>4</td>\n",
       "      <td>4</td>\n",
       "      <td>4</td>\n",
       "    </tr>\n",
       "    <tr>\n",
       "      <th>4</th>\n",
       "      <td>Chebet, Wilson</td>\n",
       "      <td>31</td>\n",
       "      <td>M</td>\n",
       "      <td>Marakwet</td>\n",
       "      <td>NaN</td>\n",
       "      <td>KEN</td>\n",
       "      <td>925</td>\n",
       "      <td>1828</td>\n",
       "      <td>2744</td>\n",
       "      <td>3675</td>\n",
       "      <td>3875</td>\n",
       "      <td>4619</td>\n",
       "      <td>5581</td>\n",
       "      <td>6521</td>\n",
       "      <td>7500</td>\n",
       "      <td>304</td>\n",
       "      <td>7955</td>\n",
       "      <td>5</td>\n",
       "      <td>5</td>\n",
       "      <td>5</td>\n",
       "    </tr>\n",
       "  </tbody>\n",
       "</table>\n",
       "</div>"
      ],
      "text/plain": [
       "               Name  Age M/F           City State Country   5K   10K   15K  \\\n",
       "0   Kirui, Geoffrey   24   M       Keringet   NaN     KEN  925  1828  2744   \n",
       "1       Rupp, Galen   30   M       Portland    OR     USA  924  1827  2744   \n",
       "2     Osako, Suguru   25   M   Machida-City   NaN     JPN  925  1829  2744   \n",
       "3  Biwott, Shadrack   32   M  Mammoth Lakes    CA     USA  925  1829  2744   \n",
       "4    Chebet, Wilson   31   M       Marakwet   NaN     KEN  925  1828  2744   \n",
       "\n",
       "    20K  Half   25K   30K   35K   40K  Pace  Official Time  Overall  Gender  \\\n",
       "0  3675  3875  4619  5581  6499  7373   297           7777        1       1   \n",
       "1  3675  3875  4619  5581  6499  7394   298           7798        2       2   \n",
       "2  3676  3876  4620  5581  6511  7418   299           7828        3       3   \n",
       "3  3679  3885  4620  5581  6538  7475   303           7928        4       4   \n",
       "4  3675  3875  4619  5581  6521  7500   304           7955        5       5   \n",
       "\n",
       "   Division  \n",
       "0         1  \n",
       "1         2  \n",
       "2         3  \n",
       "3         4  \n",
       "4         5  "
      ]
     },
     "execution_count": 158,
     "metadata": {},
     "output_type": "execute_result"
    }
   ],
   "source": [
    "marathon_2017.head()"
   ]
  },
  {
   "cell_type": "raw",
   "metadata": {},
   "source": [
    "2시간 정도 지났을 때 참가자들의 위치(Latitude, Longitude)를 파악해서 어느 위치에 몰려있는지 파악해보자"
   ]
  },
  {
   "cell_type": "code",
   "execution_count": 159,
   "metadata": {},
   "outputs": [],
   "source": [
    "check_time = 7200    # 2시간\n",
    "Lat = 0\n",
    "Long = 0\n",
    "Location = ''\n",
    "\n",
    "# 5K, 10K, 15K, 20K, 25K, 30K, 35K, 40K\n",
    "points = [[42.247835,-71.474357], [42.274032,-71.423979], [42.282364,-71.364801], [42.297870,-71.284260],\n",
    "          [42.324830,-71.259660], [42.345680,-71.215169], [42.352089,-71.124947], [42.351510,-71.086980]]"
   ]
  },
  {
   "cell_type": "code",
   "execution_count": 160,
   "metadata": {},
   "outputs": [],
   "source": [
    "marathon_location = pd.DataFrame(columns=['Lat','Long'])"
   ]
  },
  {
   "cell_type": "code",
   "execution_count": 161,
   "metadata": {},
   "outputs": [
    {
     "data": {
      "text/plain": [
       "<generator object DataFrame.iterrows at 0x00000210BB5DD200>"
      ]
     },
     "execution_count": 161,
     "metadata": {},
     "output_type": "execute_result"
    }
   ],
   "source": [
    "# iterrows() : 각각의 행을 돌아라는 뜻\n",
    "marathon_2017.iterrows()"
   ]
  },
  {
   "cell_type": "code",
   "execution_count": 162,
   "metadata": {},
   "outputs": [],
   "source": [
    "# 26000개 행을 돌면서 위치가 어디인지 판단한다.\n",
    "# iterrows() : 각각의 행을 돌아라는 뜻\n",
    "for index, record in marathon_2017.iterrows():\n",
    "    if (record['40K'] < check_time):\n",
    "        Lat = points[7][0]\n",
    "        Long = points[7][1]\n",
    "    elif (record['35K'] < check_time):\n",
    "        Lat = points[6][0]\n",
    "        Long = points[6][1]\n",
    "    elif (record['30K'] < check_time):\n",
    "        Lat = points[5][0]\n",
    "        Long = points[5][1]\n",
    "    elif (record['25K'] < check_time):\n",
    "        Lat = points[4][0]\n",
    "        Long = points[4][1]\n",
    "    elif (record['20K'] < check_time):\n",
    "        Lat = points[3][0]\n",
    "        Long = points[3][1]\n",
    "    elif (record['15K'] < check_time):\n",
    "        Lat = points[2][0]\n",
    "        Long = points[2][1]\n",
    "    elif (record['10K'] < check_time):\n",
    "        Lat = points[1][0]\n",
    "        Long = points[1][1]\n",
    "    elif (record['5K'] < check_time):\n",
    "        Lat = points[0][0]\n",
    "        Long = points[0][1]\n",
    "    else:    \n",
    "        Lat = points[0][0]\n",
    "        Long = points[0][1]\n",
    "    marathon_location = marathon_location.append({'Lat' : Lat, 'Long' : Long}, ignore_index=True)"
   ]
  },
  {
   "cell_type": "code",
   "execution_count": 113,
   "metadata": {
    "scrolled": true
   },
   "outputs": [
    {
     "name": "stdout",
     "output_type": "stream",
     "text": [
      "26410\n"
     ]
    },
    {
     "data": {
      "text/html": [
       "<div>\n",
       "<style scoped>\n",
       "    .dataframe tbody tr th:only-of-type {\n",
       "        vertical-align: middle;\n",
       "    }\n",
       "\n",
       "    .dataframe tbody tr th {\n",
       "        vertical-align: top;\n",
       "    }\n",
       "\n",
       "    .dataframe thead th {\n",
       "        text-align: right;\n",
       "    }\n",
       "</style>\n",
       "<table border=\"1\" class=\"dataframe\">\n",
       "  <thead>\n",
       "    <tr style=\"text-align: right;\">\n",
       "      <th></th>\n",
       "      <th>Lat</th>\n",
       "      <th>Long</th>\n",
       "    </tr>\n",
       "  </thead>\n",
       "  <tbody>\n",
       "    <tr>\n",
       "      <th>0</th>\n",
       "      <td>42.352089</td>\n",
       "      <td>-71.124947</td>\n",
       "    </tr>\n",
       "    <tr>\n",
       "      <th>1</th>\n",
       "      <td>42.352089</td>\n",
       "      <td>-71.124947</td>\n",
       "    </tr>\n",
       "    <tr>\n",
       "      <th>2</th>\n",
       "      <td>42.352089</td>\n",
       "      <td>-71.124947</td>\n",
       "    </tr>\n",
       "    <tr>\n",
       "      <th>3</th>\n",
       "      <td>42.352089</td>\n",
       "      <td>-71.124947</td>\n",
       "    </tr>\n",
       "    <tr>\n",
       "      <th>4</th>\n",
       "      <td>42.352089</td>\n",
       "      <td>-71.124947</td>\n",
       "    </tr>\n",
       "    <tr>\n",
       "      <th>...</th>\n",
       "      <td>...</td>\n",
       "      <td>...</td>\n",
       "    </tr>\n",
       "    <tr>\n",
       "      <th>26405</th>\n",
       "      <td>42.274032</td>\n",
       "      <td>-71.423979</td>\n",
       "    </tr>\n",
       "    <tr>\n",
       "      <th>26406</th>\n",
       "      <td>42.282364</td>\n",
       "      <td>-71.364801</td>\n",
       "    </tr>\n",
       "    <tr>\n",
       "      <th>26407</th>\n",
       "      <td>42.297870</td>\n",
       "      <td>-71.284260</td>\n",
       "    </tr>\n",
       "    <tr>\n",
       "      <th>26408</th>\n",
       "      <td>42.274032</td>\n",
       "      <td>-71.423979</td>\n",
       "    </tr>\n",
       "    <tr>\n",
       "      <th>26409</th>\n",
       "      <td>42.274032</td>\n",
       "      <td>-71.423979</td>\n",
       "    </tr>\n",
       "  </tbody>\n",
       "</table>\n",
       "<p>26410 rows × 2 columns</p>\n",
       "</div>"
      ],
      "text/plain": [
       "             Lat       Long\n",
       "0      42.352089 -71.124947\n",
       "1      42.352089 -71.124947\n",
       "2      42.352089 -71.124947\n",
       "3      42.352089 -71.124947\n",
       "4      42.352089 -71.124947\n",
       "...          ...        ...\n",
       "26405  42.274032 -71.423979\n",
       "26406  42.282364 -71.364801\n",
       "26407  42.297870 -71.284260\n",
       "26408  42.274032 -71.423979\n",
       "26409  42.274032 -71.423979\n",
       "\n",
       "[26410 rows x 2 columns]"
      ]
     },
     "execution_count": 113,
     "metadata": {},
     "output_type": "execute_result"
    }
   ],
   "source": [
    "print(len(marathon_location))\n",
    "marathon_location"
   ]
  },
  {
   "cell_type": "code",
   "execution_count": 164,
   "metadata": {},
   "outputs": [
    {
     "data": {
      "text/plain": [
       "Lat        Long      \n",
       "42.274032  -71.423979       49\n",
       "42.282364  -71.364801     4435\n",
       "42.297870  -71.284260    13866\n",
       "42.324830  -71.259660     7261\n",
       "42.345680  -71.215169      737\n",
       "42.351510  -71.086980        6\n",
       "42.352089  -71.124947       56\n",
       "dtype: int64"
      ]
     },
     "execution_count": 164,
     "metadata": {},
     "output_type": "execute_result"
    }
   ],
   "source": [
    "# 7개의 지점마다 몇명이 잇는지 .size() 함수로 알 수 있음.\n",
    "marathon_location.groupby(['Lat', 'Long']).size()"
   ]
  },
  {
   "cell_type": "code",
   "execution_count": 167,
   "metadata": {},
   "outputs": [],
   "source": [
    "#rest_index 각 값들의 칼럼명을 지어준다.\n",
    "marathon_count = marathon_location.groupby(['Lat', 'Long']).size().reset_index(name='Count')"
   ]
  },
  {
   "cell_type": "code",
   "execution_count": 168,
   "metadata": {},
   "outputs": [
    {
     "data": {
      "text/html": [
       "<div>\n",
       "<style scoped>\n",
       "    .dataframe tbody tr th:only-of-type {\n",
       "        vertical-align: middle;\n",
       "    }\n",
       "\n",
       "    .dataframe tbody tr th {\n",
       "        vertical-align: top;\n",
       "    }\n",
       "\n",
       "    .dataframe thead th {\n",
       "        text-align: right;\n",
       "    }\n",
       "</style>\n",
       "<table border=\"1\" class=\"dataframe\">\n",
       "  <thead>\n",
       "    <tr style=\"text-align: right;\">\n",
       "      <th></th>\n",
       "      <th>Lat</th>\n",
       "      <th>Long</th>\n",
       "      <th>Count</th>\n",
       "    </tr>\n",
       "  </thead>\n",
       "  <tbody>\n",
       "    <tr>\n",
       "      <th>0</th>\n",
       "      <td>42.274032</td>\n",
       "      <td>-71.423979</td>\n",
       "      <td>49</td>\n",
       "    </tr>\n",
       "    <tr>\n",
       "      <th>1</th>\n",
       "      <td>42.282364</td>\n",
       "      <td>-71.364801</td>\n",
       "      <td>4435</td>\n",
       "    </tr>\n",
       "    <tr>\n",
       "      <th>2</th>\n",
       "      <td>42.297870</td>\n",
       "      <td>-71.284260</td>\n",
       "      <td>13866</td>\n",
       "    </tr>\n",
       "    <tr>\n",
       "      <th>3</th>\n",
       "      <td>42.324830</td>\n",
       "      <td>-71.259660</td>\n",
       "      <td>7261</td>\n",
       "    </tr>\n",
       "    <tr>\n",
       "      <th>4</th>\n",
       "      <td>42.345680</td>\n",
       "      <td>-71.215169</td>\n",
       "      <td>737</td>\n",
       "    </tr>\n",
       "    <tr>\n",
       "      <th>5</th>\n",
       "      <td>42.351510</td>\n",
       "      <td>-71.086980</td>\n",
       "      <td>6</td>\n",
       "    </tr>\n",
       "    <tr>\n",
       "      <th>6</th>\n",
       "      <td>42.352089</td>\n",
       "      <td>-71.124947</td>\n",
       "      <td>56</td>\n",
       "    </tr>\n",
       "  </tbody>\n",
       "</table>\n",
       "</div>"
      ],
      "text/plain": [
       "         Lat       Long  Count\n",
       "0  42.274032 -71.423979     49\n",
       "1  42.282364 -71.364801   4435\n",
       "2  42.297870 -71.284260  13866\n",
       "3  42.324830 -71.259660   7261\n",
       "4  42.345680 -71.215169    737\n",
       "5  42.351510 -71.086980      6\n",
       "6  42.352089 -71.124947     56"
      ]
     },
     "execution_count": 168,
     "metadata": {},
     "output_type": "execute_result"
    }
   ],
   "source": [
    "marathon_count"
   ]
  },
  {
   "cell_type": "markdown",
   "metadata": {},
   "source": [
    "### -> 2시간 정도 지났을 때, 참가자들은 7개 정도 지역에 분포되어 있다."
   ]
  },
  {
   "cell_type": "markdown",
   "metadata": {},
   "source": [
    "## Bubble chart(지도) 그리기 : scatter chart의 응용버전"
   ]
  },
  {
   "cell_type": "code",
   "execution_count": 172,
   "metadata": {},
   "outputs": [
    {
     "data": {
      "image/png": "[encoded data removed]",
      "text/plain": [
       "<Figure size 1080x720 with 1 Axes>"
      ]
     },
     "metadata": {
      "needs_background": "light"
     },
     "output_type": "display_data"
    }
   ],
   "source": [
    "import matplotlib.pyplot as plt\n",
    "\n",
    "# figure size 지정\n",
    "plt.figure(figsize=(15, 10))\n",
    "\n",
    "# scatter chart 적용\n",
    "plt.scatter(marathon_count.Lat, marathon_count.Long, s=marathon_count.Count, alpha=0.5)\n",
    "\n",
    "# 타이틀, 라벨 달기\n",
    "plt.title('Runners location at 2nd hours')\n",
    "plt.xlabel('Latitude')\n",
    "plt.ylabel('Longitude')\n",
    "\n",
    "# 위치 별 Count값 넣기\n",
    "for i, txt in enumerate(marathon_count.Count):\n",
    "    plt.annotate(txt, (marathon_count.Lat[i], marathon_count.Long[i]), fontsize=18)\n",
    "\n",
    "plt.show()"
   ]
  },
  {
   "cell_type": "markdown",
   "metadata": {},
   "source": [
    "# 7. Heat map"
   ]
  },
  {
   "cell_type": "raw",
   "metadata": {},
   "source": [
    "변수 간의 상관관계를 보여준다."
   ]
  },
  {
   "cell_type": "code",
   "execution_count": 173,
   "metadata": {},
   "outputs": [],
   "source": [
    "marathon_2015_2017 = pd.read_csv('data/marathon_2015_2017.csv')\n",
    "\n",
    "import pandas as pd\n",
    "import matplotlib.pyplot as plt\n",
    "import seaborn as sns\n",
    "sns.set()\n"
   ]
  },
  {
   "cell_type": "code",
   "execution_count": 174,
   "metadata": {},
   "outputs": [],
   "source": [
    "marathon_2015_2017_under60 = marathon_2015_2017[marathon_2015_2017.Age.isin(range(0,60))]"
   ]
  },
  {
   "cell_type": "code",
   "execution_count": 175,
   "metadata": {},
   "outputs": [
    {
     "name": "stdout",
     "output_type": "stream",
     "text": [
      "<class 'pandas.core.frame.DataFrame'>\n",
      "Int64Index: 73608 entries, 0 to 79637\n",
      "Data columns (total 21 columns):\n",
      " #   Column         Non-Null Count  Dtype \n",
      "---  ------         --------------  ----- \n",
      " 0   Name           73608 non-null  object\n",
      " 1   Age            73608 non-null  int64 \n",
      " 2   M/F            73608 non-null  object\n",
      " 3   City           73607 non-null  object\n",
      " 4   State          65438 non-null  object\n",
      " 5   Country        73608 non-null  object\n",
      " 6   5K             73608 non-null  int64 \n",
      " 7   10K            73608 non-null  int64 \n",
      " 8   15K            73608 non-null  int64 \n",
      " 9   20K            73608 non-null  int64 \n",
      " 10  Half           73608 non-null  int64 \n",
      " 11  25K            73608 non-null  int64 \n",
      " 12  30K            73608 non-null  int64 \n",
      " 13  35K            73608 non-null  int64 \n",
      " 14  40K            73608 non-null  int64 \n",
      " 15  Pace           73608 non-null  int64 \n",
      " 16  Official Time  73608 non-null  int64 \n",
      " 17  Overall        73608 non-null  int64 \n",
      " 18  Gender         73608 non-null  int64 \n",
      " 19  Division       73608 non-null  int64 \n",
      " 20  Year           73608 non-null  int64 \n",
      "dtypes: int64(16), object(5)\n",
      "memory usage: 12.4+ MB\n"
     ]
    }
   ],
   "source": [
    "marathon_2015_2017_under60.info()"
   ]
  },
  {
   "cell_type": "code",
   "execution_count": 176,
   "metadata": {},
   "outputs": [],
   "source": [
    "marathon = marathon_2015_2017_under60.groupby('Age')['M/F'].value_counts().unstack().fillna(0)"
   ]
  },
  {
   "cell_type": "code",
   "execution_count": 177,
   "metadata": {},
   "outputs": [
    {
     "data": {
      "text/plain": [
       "Age  M/F\n",
       "18   M       32\n",
       "     F       30\n",
       "19   F       70\n",
       "     M       67\n",
       "20   F      139\n",
       "           ... \n",
       "57   F      387\n",
       "58   M      741\n",
       "     F      303\n",
       "59   M      564\n",
       "     F      224\n",
       "Name: M/F, Length: 84, dtype: int64"
      ]
     },
     "execution_count": 177,
     "metadata": {},
     "output_type": "execute_result"
    }
   ],
   "source": [
    "marathon_2015_2017_under60.groupby('Age')['M/F'].value_counts()"
   ]
  },
  {
   "cell_type": "code",
   "execution_count": 126,
   "metadata": {},
   "outputs": [
    {
     "data": {
      "text/html": [
       "<div>\n",
       "<style scoped>\n",
       "    .dataframe tbody tr th:only-of-type {\n",
       "        vertical-align: middle;\n",
       "    }\n",
       "\n",
       "    .dataframe tbody tr th {\n",
       "        vertical-align: top;\n",
       "    }\n",
       "\n",
       "    .dataframe thead th {\n",
       "        text-align: right;\n",
       "    }\n",
       "</style>\n",
       "<table border=\"1\" class=\"dataframe\">\n",
       "  <thead>\n",
       "    <tr style=\"text-align: right;\">\n",
       "      <th>M/F</th>\n",
       "      <th>F</th>\n",
       "      <th>M</th>\n",
       "    </tr>\n",
       "    <tr>\n",
       "      <th>Age</th>\n",
       "      <th></th>\n",
       "      <th></th>\n",
       "    </tr>\n",
       "  </thead>\n",
       "  <tbody>\n",
       "    <tr>\n",
       "      <th>18</th>\n",
       "      <td>30</td>\n",
       "      <td>32</td>\n",
       "    </tr>\n",
       "    <tr>\n",
       "      <th>19</th>\n",
       "      <td>70</td>\n",
       "      <td>67</td>\n",
       "    </tr>\n",
       "    <tr>\n",
       "      <th>20</th>\n",
       "      <td>139</td>\n",
       "      <td>125</td>\n",
       "    </tr>\n",
       "    <tr>\n",
       "      <th>21</th>\n",
       "      <td>253</td>\n",
       "      <td>236</td>\n",
       "    </tr>\n",
       "    <tr>\n",
       "      <th>22</th>\n",
       "      <td>422</td>\n",
       "      <td>279</td>\n",
       "    </tr>\n",
       "    <tr>\n",
       "      <th>23</th>\n",
       "      <td>590</td>\n",
       "      <td>330</td>\n",
       "    </tr>\n",
       "    <tr>\n",
       "      <th>24</th>\n",
       "      <td>829</td>\n",
       "      <td>472</td>\n",
       "    </tr>\n",
       "    <tr>\n",
       "      <th>25</th>\n",
       "      <td>979</td>\n",
       "      <td>560</td>\n",
       "    </tr>\n",
       "    <tr>\n",
       "      <th>26</th>\n",
       "      <td>1060</td>\n",
       "      <td>649</td>\n",
       "    </tr>\n",
       "    <tr>\n",
       "      <th>27</th>\n",
       "      <td>1077</td>\n",
       "      <td>678</td>\n",
       "    </tr>\n",
       "    <tr>\n",
       "      <th>28</th>\n",
       "      <td>1040</td>\n",
       "      <td>718</td>\n",
       "    </tr>\n",
       "    <tr>\n",
       "      <th>29</th>\n",
       "      <td>1082</td>\n",
       "      <td>824</td>\n",
       "    </tr>\n",
       "    <tr>\n",
       "      <th>30</th>\n",
       "      <td>1022</td>\n",
       "      <td>827</td>\n",
       "    </tr>\n",
       "    <tr>\n",
       "      <th>31</th>\n",
       "      <td>926</td>\n",
       "      <td>853</td>\n",
       "    </tr>\n",
       "    <tr>\n",
       "      <th>32</th>\n",
       "      <td>888</td>\n",
       "      <td>838</td>\n",
       "    </tr>\n",
       "    <tr>\n",
       "      <th>33</th>\n",
       "      <td>947</td>\n",
       "      <td>887</td>\n",
       "    </tr>\n",
       "    <tr>\n",
       "      <th>34</th>\n",
       "      <td>855</td>\n",
       "      <td>901</td>\n",
       "    </tr>\n",
       "    <tr>\n",
       "      <th>35</th>\n",
       "      <td>1219</td>\n",
       "      <td>1108</td>\n",
       "    </tr>\n",
       "    <tr>\n",
       "      <th>36</th>\n",
       "      <td>1109</td>\n",
       "      <td>1079</td>\n",
       "    </tr>\n",
       "    <tr>\n",
       "      <th>37</th>\n",
       "      <td>1114</td>\n",
       "      <td>994</td>\n",
       "    </tr>\n",
       "    <tr>\n",
       "      <th>38</th>\n",
       "      <td>1092</td>\n",
       "      <td>1036</td>\n",
       "    </tr>\n",
       "    <tr>\n",
       "      <th>39</th>\n",
       "      <td>1054</td>\n",
       "      <td>1047</td>\n",
       "    </tr>\n",
       "    <tr>\n",
       "      <th>40</th>\n",
       "      <td>1352</td>\n",
       "      <td>1382</td>\n",
       "    </tr>\n",
       "    <tr>\n",
       "      <th>41</th>\n",
       "      <td>1268</td>\n",
       "      <td>1226</td>\n",
       "    </tr>\n",
       "    <tr>\n",
       "      <th>42</th>\n",
       "      <td>1141</td>\n",
       "      <td>1177</td>\n",
       "    </tr>\n",
       "    <tr>\n",
       "      <th>43</th>\n",
       "      <td>1077</td>\n",
       "      <td>1188</td>\n",
       "    </tr>\n",
       "    <tr>\n",
       "      <th>44</th>\n",
       "      <td>938</td>\n",
       "      <td>1118</td>\n",
       "    </tr>\n",
       "    <tr>\n",
       "      <th>45</th>\n",
       "      <td>1403</td>\n",
       "      <td>1833</td>\n",
       "    </tr>\n",
       "    <tr>\n",
       "      <th>46</th>\n",
       "      <td>1294</td>\n",
       "      <td>1745</td>\n",
       "    </tr>\n",
       "    <tr>\n",
       "      <th>47</th>\n",
       "      <td>1088</td>\n",
       "      <td>1478</td>\n",
       "    </tr>\n",
       "    <tr>\n",
       "      <th>48</th>\n",
       "      <td>957</td>\n",
       "      <td>1320</td>\n",
       "    </tr>\n",
       "    <tr>\n",
       "      <th>49</th>\n",
       "      <td>854</td>\n",
       "      <td>1164</td>\n",
       "    </tr>\n",
       "    <tr>\n",
       "      <th>50</th>\n",
       "      <td>1017</td>\n",
       "      <td>1481</td>\n",
       "    </tr>\n",
       "    <tr>\n",
       "      <th>51</th>\n",
       "      <td>832</td>\n",
       "      <td>1292</td>\n",
       "    </tr>\n",
       "    <tr>\n",
       "      <th>52</th>\n",
       "      <td>725</td>\n",
       "      <td>1205</td>\n",
       "    </tr>\n",
       "    <tr>\n",
       "      <th>53</th>\n",
       "      <td>619</td>\n",
       "      <td>1111</td>\n",
       "    </tr>\n",
       "    <tr>\n",
       "      <th>54</th>\n",
       "      <td>490</td>\n",
       "      <td>943</td>\n",
       "    </tr>\n",
       "    <tr>\n",
       "      <th>55</th>\n",
       "      <td>587</td>\n",
       "      <td>1333</td>\n",
       "    </tr>\n",
       "    <tr>\n",
       "      <th>56</th>\n",
       "      <td>454</td>\n",
       "      <td>1060</td>\n",
       "    </tr>\n",
       "    <tr>\n",
       "      <th>57</th>\n",
       "      <td>387</td>\n",
       "      <td>900</td>\n",
       "    </tr>\n",
       "    <tr>\n",
       "      <th>58</th>\n",
       "      <td>303</td>\n",
       "      <td>741</td>\n",
       "    </tr>\n",
       "    <tr>\n",
       "      <th>59</th>\n",
       "      <td>224</td>\n",
       "      <td>564</td>\n",
       "    </tr>\n",
       "  </tbody>\n",
       "</table>\n",
       "</div>"
      ],
      "text/plain": [
       "M/F     F     M\n",
       "Age            \n",
       "18     30    32\n",
       "19     70    67\n",
       "20    139   125\n",
       "21    253   236\n",
       "22    422   279\n",
       "23    590   330\n",
       "24    829   472\n",
       "25    979   560\n",
       "26   1060   649\n",
       "27   1077   678\n",
       "28   1040   718\n",
       "29   1082   824\n",
       "30   1022   827\n",
       "31    926   853\n",
       "32    888   838\n",
       "33    947   887\n",
       "34    855   901\n",
       "35   1219  1108\n",
       "36   1109  1079\n",
       "37   1114   994\n",
       "38   1092  1036\n",
       "39   1054  1047\n",
       "40   1352  1382\n",
       "41   1268  1226\n",
       "42   1141  1177\n",
       "43   1077  1188\n",
       "44    938  1118\n",
       "45   1403  1833\n",
       "46   1294  1745\n",
       "47   1088  1478\n",
       "48    957  1320\n",
       "49    854  1164\n",
       "50   1017  1481\n",
       "51    832  1292\n",
       "52    725  1205\n",
       "53    619  1111\n",
       "54    490   943\n",
       "55    587  1333\n",
       "56    454  1060\n",
       "57    387   900\n",
       "58    303   741\n",
       "59    224   564"
      ]
     },
     "execution_count": 126,
     "metadata": {},
     "output_type": "execute_result"
    }
   ],
   "source": [
    "marathon"
   ]
  },
  {
   "cell_type": "raw",
   "metadata": {},
   "source": [
    "subplots()에선 두개의 값을 받을 수 있는데 figure 와 axes 값을 받을 수 있다.\n",
    "여기서 변수명은 상관없다. 순서가 중요하다\n",
    "\n",
    "fig란 figure로써 - 전체 subplot을 말한다. ex) 서브플로안에 몇개의 그래프가 있던지 상관없이  그걸 담는 하나.                              전체 사이즈를 말한다.\n",
    "\n",
    "ax는 axe로써 - 전체 중 낱낱개를 말한다 ex) 서브플롯 안에 2개(a1,a2)의 그래프가 있다면 a1, a2 를 일컬음"
   ]
  },
  {
   "cell_type": "code",
   "execution_count": 179,
   "metadata": {
    "scrolled": false
   },
   "outputs": [
    {
     "data": {
      "text/plain": [
       "<matplotlib.axes._subplots.AxesSubplot at 0x210b434ce20>"
      ]
     },
     "execution_count": 179,
     "metadata": {},
     "output_type": "execute_result"
    },
    {
     "data": {
      "image/png": "[encoded data removed]",
      "text/plain": [
       "<Figure size 504x864 with 2 Axes>"
      ]
     },
     "metadata": {},
     "output_type": "display_data"
    }
   ],
   "source": [
    "f, ax = plt.subplots(figsize=(7,12))\n",
    "sns.heatmap(marathon, annot=True, fmt='d', linewidths=.5, ax=ax)  # cmap='Accent'"
   ]
  },
  {
   "cell_type": "raw",
   "metadata": {},
   "source": [
    "45세 정도가 남녀 통틀어 가장 참가자수가 많다.\n",
    "18세 정도가 남녀 통틀어 가장 참가자수가 적다."
   ]
  },
  {
   "cell_type": "markdown",
   "metadata": {},
   "source": [
    "# 8. Histogram"
   ]
  },
  {
   "cell_type": "code",
   "execution_count": 1,
   "metadata": {},
   "outputs": [],
   "source": [
    "# 208.py"
   ]
  },
  {
   "cell_type": "code",
   "execution_count": 180,
   "metadata": {},
   "outputs": [],
   "source": [
    "import pandas as pd\n",
    "import matplotlib.pyplot as plt\n",
    "import seaborn as sns"
   ]
  },
  {
   "cell_type": "code",
   "execution_count": 181,
   "metadata": {},
   "outputs": [],
   "source": [
    "marathon_2015_2017 = pd.read_csv('data/marathon_2015_2017.csv')"
   ]
  },
  {
   "cell_type": "code",
   "execution_count": 182,
   "metadata": {},
   "outputs": [
    {
     "name": "stdout",
     "output_type": "stream",
     "text": [
      "(79638, 21)\n"
     ]
    },
    {
     "data": {
      "text/html": [
       "<div>\n",
       "<style scoped>\n",
       "    .dataframe tbody tr th:only-of-type {\n",
       "        vertical-align: middle;\n",
       "    }\n",
       "\n",
       "    .dataframe tbody tr th {\n",
       "        vertical-align: top;\n",
       "    }\n",
       "\n",
       "    .dataframe thead th {\n",
       "        text-align: right;\n",
       "    }\n",
       "</style>\n",
       "<table border=\"1\" class=\"dataframe\">\n",
       "  <thead>\n",
       "    <tr style=\"text-align: right;\">\n",
       "      <th></th>\n",
       "      <th>Name</th>\n",
       "      <th>Age</th>\n",
       "      <th>M/F</th>\n",
       "      <th>City</th>\n",
       "      <th>State</th>\n",
       "      <th>Country</th>\n",
       "      <th>5K</th>\n",
       "      <th>10K</th>\n",
       "      <th>15K</th>\n",
       "      <th>20K</th>\n",
       "      <th>...</th>\n",
       "      <th>25K</th>\n",
       "      <th>30K</th>\n",
       "      <th>35K</th>\n",
       "      <th>40K</th>\n",
       "      <th>Pace</th>\n",
       "      <th>Official Time</th>\n",
       "      <th>Overall</th>\n",
       "      <th>Gender</th>\n",
       "      <th>Division</th>\n",
       "      <th>Year</th>\n",
       "    </tr>\n",
       "  </thead>\n",
       "  <tbody>\n",
       "    <tr>\n",
       "      <th>0</th>\n",
       "      <td>Desisa, Lelisa</td>\n",
       "      <td>25</td>\n",
       "      <td>M</td>\n",
       "      <td>Ambo</td>\n",
       "      <td>NaN</td>\n",
       "      <td>ETH</td>\n",
       "      <td>883</td>\n",
       "      <td>1783</td>\n",
       "      <td>2697</td>\n",
       "      <td>3629</td>\n",
       "      <td>...</td>\n",
       "      <td>4567</td>\n",
       "      <td>5520</td>\n",
       "      <td>6479</td>\n",
       "      <td>7359</td>\n",
       "      <td>296</td>\n",
       "      <td>7757</td>\n",
       "      <td>1</td>\n",
       "      <td>1</td>\n",
       "      <td>1</td>\n",
       "      <td>2015</td>\n",
       "    </tr>\n",
       "    <tr>\n",
       "      <th>1</th>\n",
       "      <td>Tsegay, Yemane Adhane</td>\n",
       "      <td>30</td>\n",
       "      <td>M</td>\n",
       "      <td>Addis Ababa</td>\n",
       "      <td>NaN</td>\n",
       "      <td>ETH</td>\n",
       "      <td>883</td>\n",
       "      <td>1783</td>\n",
       "      <td>2698</td>\n",
       "      <td>3628</td>\n",
       "      <td>...</td>\n",
       "      <td>4567</td>\n",
       "      <td>5519</td>\n",
       "      <td>6479</td>\n",
       "      <td>7362</td>\n",
       "      <td>298</td>\n",
       "      <td>7788</td>\n",
       "      <td>2</td>\n",
       "      <td>2</td>\n",
       "      <td>2</td>\n",
       "      <td>2015</td>\n",
       "    </tr>\n",
       "    <tr>\n",
       "      <th>2</th>\n",
       "      <td>Chebet, Wilson</td>\n",
       "      <td>29</td>\n",
       "      <td>M</td>\n",
       "      <td>Marakwet</td>\n",
       "      <td>NaN</td>\n",
       "      <td>KEN</td>\n",
       "      <td>883</td>\n",
       "      <td>1783</td>\n",
       "      <td>2697</td>\n",
       "      <td>3629</td>\n",
       "      <td>...</td>\n",
       "      <td>4567</td>\n",
       "      <td>5520</td>\n",
       "      <td>6479</td>\n",
       "      <td>7381</td>\n",
       "      <td>299</td>\n",
       "      <td>7822</td>\n",
       "      <td>3</td>\n",
       "      <td>3</td>\n",
       "      <td>3</td>\n",
       "      <td>2015</td>\n",
       "    </tr>\n",
       "  </tbody>\n",
       "</table>\n",
       "<p>3 rows × 21 columns</p>\n",
       "</div>"
      ],
      "text/plain": [
       "                    Name  Age M/F         City State Country   5K   10K   15K  \\\n",
       "0         Desisa, Lelisa   25   M         Ambo   NaN     ETH  883  1783  2697   \n",
       "1  Tsegay, Yemane Adhane   30   M  Addis Ababa   NaN     ETH  883  1783  2698   \n",
       "2         Chebet, Wilson   29   M     Marakwet   NaN     KEN  883  1783  2697   \n",
       "\n",
       "    20K  ...   25K   30K   35K   40K  Pace  Official Time  Overall  Gender  \\\n",
       "0  3629  ...  4567  5520  6479  7359   296           7757        1       1   \n",
       "1  3628  ...  4567  5519  6479  7362   298           7788        2       2   \n",
       "2  3629  ...  4567  5520  6479  7381   299           7822        3       3   \n",
       "\n",
       "   Division  Year  \n",
       "0         1  2015  \n",
       "1         2  2015  \n",
       "2         3  2015  \n",
       "\n",
       "[3 rows x 21 columns]"
      ]
     },
     "execution_count": 182,
     "metadata": {},
     "output_type": "execute_result"
    }
   ],
   "source": [
    "print(marathon_2015_2017.shape)\n",
    "marathon_2015_2017.head(3)"
   ]
  },
  {
   "cell_type": "markdown",
   "metadata": {},
   "source": [
    "### (1) 나이별 참가자 비율 분포 구하기 : seaborn의 distplot"
   ]
  },
  {
   "cell_type": "code",
   "execution_count": 183,
   "metadata": {},
   "outputs": [
    {
     "data": {
      "image/png": "[encoded data removed]",
      "text/plain": [
       "<Figure size 720x360 with 1 Axes>"
      ]
     },
     "metadata": {},
     "output_type": "display_data"
    }
   ],
   "source": [
    "# figure size 지정\n",
    "plt.figure(figsize = (10, 5))\n",
    "\n",
    "# displot 함수로 분포 그리기\n",
    "age_count = sns.distplot(marathon_2015_2017.Age)\n",
    "\n",
    "# 제목, x라벨 ,y라벨 지정\n",
    "age_count.set_title('Distribution Rate by Ages', fontsize=18)\n",
    "age_count.set_xlabel('Ages', fontdict={'size':16})\n",
    "age_count.set_xlabel('Distibution Rate', fontdict={'size':16})\n",
    "\n",
    "plt.show()"
   ]
  },
  {
   "cell_type": "markdown",
   "metadata": {},
   "source": [
    "### (2) 나이별 참가자 실제 수 그리기 : seaborn의 countplot"
   ]
  },
  {
   "cell_type": "code",
   "execution_count": 186,
   "metadata": {},
   "outputs": [
    {
     "data": {
      "image/png": "[encoded data removed]",
      "text/plain": [
       "<Figure size 1080x360 with 1 Axes>"
      ]
     },
     "metadata": {},
     "output_type": "display_data"
    }
   ],
   "source": [
    "# figure size 지정\n",
    "plt.figure(figsize = (15, 5))\n",
    "\n",
    "# displot 함수로 분포 그리기\n",
    "age_count = sns.countplot(marathon_2015_2017.Age)\n",
    "\n",
    "# 제목, x라벨 ,y라벨 지정\n",
    "age_count.set_title('Distribution by Ages', fontsize=18)\n",
    "age_count.set_xlabel('Ages', fontdict={'size':16})\n",
    "age_count.set_ylabel('Distibution Rate', fontdict={'size':16})\n",
    "\n",
    "plt.show()"
   ]
  },
  {
   "cell_type": "markdown",
   "metadata": {},
   "source": [
    "### (3) 카운트가 높은 연령 기준으로 실제 수 그리기 : 씨본의 countplot 응용"
   ]
  },
  {
   "cell_type": "code",
   "execution_count": 135,
   "metadata": {},
   "outputs": [
    {
     "data": {
      "image/png": "[encoded data removed]",
      "text/plain": [
       "<Figure size 1440x720 with 1 Axes>"
      ]
     },
     "metadata": {},
     "output_type": "display_data"
    }
   ],
   "source": [
    "# figure size 지정\n",
    "plt.figure(figsize = (20, 10))\n",
    "\n",
    "# displot 함수로 분포 그리기\n",
    "# 카운트가 높은 연령 기준으로 : value_counts와 index 메소드를 이용해서\n",
    "age_count = sns.countplot('Age', data=marathon_2015_2017, order=marathon_2015_2017['Age'].value_counts().index)\n",
    "\n",
    "# 제목, x라벨 ,y라벨 지정\n",
    "age_count.set_title('Distribution by Ages sorted', fontsize=18)\n",
    "age_count.set_xlabel('Ages', fontdict={'size':16})\n",
    "age_count.set_xlabel('Distibution Rate', fontdict={'size':16})\n",
    "\n",
    "plt.show()"
   ]
  },
  {
   "cell_type": "markdown",
   "metadata": {},
   "source": [
    "# 9. Box plot"
   ]
  },
  {
   "cell_type": "code",
   "execution_count": 187,
   "metadata": {},
   "outputs": [],
   "source": [
    "# 필요한 라이브러리 임포트\n",
    "import pandas as pd\n",
    "import numpy as np\n",
    "\n",
    "import matplotlib.pyplot as plt\n",
    "import seaborn as sns"
   ]
  },
  {
   "cell_type": "code",
   "execution_count": 137,
   "metadata": {},
   "outputs": [],
   "source": []
  },
  {
   "cell_type": "code",
   "execution_count": 188,
   "metadata": {},
   "outputs": [],
   "source": [
    "marathon_2015_2017 = pd.read_csv('data/marathon_2015_2017.csv')"
   ]
  },
  {
   "cell_type": "code",
   "execution_count": 189,
   "metadata": {},
   "outputs": [
    {
     "name": "stdout",
     "output_type": "stream",
     "text": [
      "(79638, 21)\n"
     ]
    },
    {
     "data": {
      "text/html": [
       "<div>\n",
       "<style scoped>\n",
       "    .dataframe tbody tr th:only-of-type {\n",
       "        vertical-align: middle;\n",
       "    }\n",
       "\n",
       "    .dataframe tbody tr th {\n",
       "        vertical-align: top;\n",
       "    }\n",
       "\n",
       "    .dataframe thead th {\n",
       "        text-align: right;\n",
       "    }\n",
       "</style>\n",
       "<table border=\"1\" class=\"dataframe\">\n",
       "  <thead>\n",
       "    <tr style=\"text-align: right;\">\n",
       "      <th></th>\n",
       "      <th>Name</th>\n",
       "      <th>Age</th>\n",
       "      <th>M/F</th>\n",
       "      <th>City</th>\n",
       "      <th>State</th>\n",
       "      <th>Country</th>\n",
       "      <th>5K</th>\n",
       "      <th>10K</th>\n",
       "      <th>15K</th>\n",
       "      <th>20K</th>\n",
       "      <th>...</th>\n",
       "      <th>25K</th>\n",
       "      <th>30K</th>\n",
       "      <th>35K</th>\n",
       "      <th>40K</th>\n",
       "      <th>Pace</th>\n",
       "      <th>Official Time</th>\n",
       "      <th>Overall</th>\n",
       "      <th>Gender</th>\n",
       "      <th>Division</th>\n",
       "      <th>Year</th>\n",
       "    </tr>\n",
       "  </thead>\n",
       "  <tbody>\n",
       "    <tr>\n",
       "      <th>0</th>\n",
       "      <td>Desisa, Lelisa</td>\n",
       "      <td>25</td>\n",
       "      <td>M</td>\n",
       "      <td>Ambo</td>\n",
       "      <td>NaN</td>\n",
       "      <td>ETH</td>\n",
       "      <td>883</td>\n",
       "      <td>1783</td>\n",
       "      <td>2697</td>\n",
       "      <td>3629</td>\n",
       "      <td>...</td>\n",
       "      <td>4567</td>\n",
       "      <td>5520</td>\n",
       "      <td>6479</td>\n",
       "      <td>7359</td>\n",
       "      <td>296</td>\n",
       "      <td>7757</td>\n",
       "      <td>1</td>\n",
       "      <td>1</td>\n",
       "      <td>1</td>\n",
       "      <td>2015</td>\n",
       "    </tr>\n",
       "    <tr>\n",
       "      <th>1</th>\n",
       "      <td>Tsegay, Yemane Adhane</td>\n",
       "      <td>30</td>\n",
       "      <td>M</td>\n",
       "      <td>Addis Ababa</td>\n",
       "      <td>NaN</td>\n",
       "      <td>ETH</td>\n",
       "      <td>883</td>\n",
       "      <td>1783</td>\n",
       "      <td>2698</td>\n",
       "      <td>3628</td>\n",
       "      <td>...</td>\n",
       "      <td>4567</td>\n",
       "      <td>5519</td>\n",
       "      <td>6479</td>\n",
       "      <td>7362</td>\n",
       "      <td>298</td>\n",
       "      <td>7788</td>\n",
       "      <td>2</td>\n",
       "      <td>2</td>\n",
       "      <td>2</td>\n",
       "      <td>2015</td>\n",
       "    </tr>\n",
       "    <tr>\n",
       "      <th>2</th>\n",
       "      <td>Chebet, Wilson</td>\n",
       "      <td>29</td>\n",
       "      <td>M</td>\n",
       "      <td>Marakwet</td>\n",
       "      <td>NaN</td>\n",
       "      <td>KEN</td>\n",
       "      <td>883</td>\n",
       "      <td>1783</td>\n",
       "      <td>2697</td>\n",
       "      <td>3629</td>\n",
       "      <td>...</td>\n",
       "      <td>4567</td>\n",
       "      <td>5520</td>\n",
       "      <td>6479</td>\n",
       "      <td>7381</td>\n",
       "      <td>299</td>\n",
       "      <td>7822</td>\n",
       "      <td>3</td>\n",
       "      <td>3</td>\n",
       "      <td>3</td>\n",
       "      <td>2015</td>\n",
       "    </tr>\n",
       "  </tbody>\n",
       "</table>\n",
       "<p>3 rows × 21 columns</p>\n",
       "</div>"
      ],
      "text/plain": [
       "                    Name  Age M/F         City State Country   5K   10K   15K  \\\n",
       "0         Desisa, Lelisa   25   M         Ambo   NaN     ETH  883  1783  2697   \n",
       "1  Tsegay, Yemane Adhane   30   M  Addis Ababa   NaN     ETH  883  1783  2698   \n",
       "2         Chebet, Wilson   29   M     Marakwet   NaN     KEN  883  1783  2697   \n",
       "\n",
       "    20K  ...   25K   30K   35K   40K  Pace  Official Time  Overall  Gender  \\\n",
       "0  3629  ...  4567  5520  6479  7359   296           7757        1       1   \n",
       "1  3628  ...  4567  5519  6479  7362   298           7788        2       2   \n",
       "2  3629  ...  4567  5520  6479  7381   299           7822        3       3   \n",
       "\n",
       "   Division  Year  \n",
       "0         1  2015  \n",
       "1         2  2015  \n",
       "2         3  2015  \n",
       "\n",
       "[3 rows x 21 columns]"
      ]
     },
     "execution_count": 189,
     "metadata": {},
     "output_type": "execute_result"
    }
   ],
   "source": [
    "print(marathon_2015_2017.shape)\n",
    "marathon_2015_2017.head(3)"
   ]
  },
  {
   "cell_type": "markdown",
   "metadata": {},
   "source": [
    "### 미국인 참가자만 가져오기"
   ]
  },
  {
   "cell_type": "code",
   "execution_count": 190,
   "metadata": {},
   "outputs": [],
   "source": [
    "USA_runner = marathon_2015_2017[marathon_2015_2017.Country =='USA']"
   ]
  },
  {
   "cell_type": "code",
   "execution_count": 191,
   "metadata": {},
   "outputs": [
    {
     "name": "stdout",
     "output_type": "stream",
     "text": [
      "(64474, 21)\n"
     ]
    },
    {
     "data": {
      "text/html": [
       "<div>\n",
       "<style scoped>\n",
       "    .dataframe tbody tr th:only-of-type {\n",
       "        vertical-align: middle;\n",
       "    }\n",
       "\n",
       "    .dataframe tbody tr th {\n",
       "        vertical-align: top;\n",
       "    }\n",
       "\n",
       "    .dataframe thead th {\n",
       "        text-align: right;\n",
       "    }\n",
       "</style>\n",
       "<table border=\"1\" class=\"dataframe\">\n",
       "  <thead>\n",
       "    <tr style=\"text-align: right;\">\n",
       "      <th></th>\n",
       "      <th>Name</th>\n",
       "      <th>Age</th>\n",
       "      <th>M/F</th>\n",
       "      <th>City</th>\n",
       "      <th>State</th>\n",
       "      <th>Country</th>\n",
       "      <th>5K</th>\n",
       "      <th>10K</th>\n",
       "      <th>15K</th>\n",
       "      <th>20K</th>\n",
       "      <th>...</th>\n",
       "      <th>25K</th>\n",
       "      <th>30K</th>\n",
       "      <th>35K</th>\n",
       "      <th>40K</th>\n",
       "      <th>Pace</th>\n",
       "      <th>Official Time</th>\n",
       "      <th>Overall</th>\n",
       "      <th>Gender</th>\n",
       "      <th>Division</th>\n",
       "      <th>Year</th>\n",
       "    </tr>\n",
       "  </thead>\n",
       "  <tbody>\n",
       "    <tr>\n",
       "      <th>6</th>\n",
       "      <td>Ritzenhein, Dathan</td>\n",
       "      <td>32</td>\n",
       "      <td>M</td>\n",
       "      <td>Rockford</td>\n",
       "      <td>MI</td>\n",
       "      <td>USA</td>\n",
       "      <td>885</td>\n",
       "      <td>1785</td>\n",
       "      <td>2720</td>\n",
       "      <td>3643</td>\n",
       "      <td>...</td>\n",
       "      <td>4565</td>\n",
       "      <td>5519</td>\n",
       "      <td>6486</td>\n",
       "      <td>7445</td>\n",
       "      <td>301</td>\n",
       "      <td>7880</td>\n",
       "      <td>7</td>\n",
       "      <td>7</td>\n",
       "      <td>7</td>\n",
       "      <td>2015</td>\n",
       "    </tr>\n",
       "    <tr>\n",
       "      <th>7</th>\n",
       "      <td>Keflezighi, Meb</td>\n",
       "      <td>39</td>\n",
       "      <td>M</td>\n",
       "      <td>San Diego</td>\n",
       "      <td>CA</td>\n",
       "      <td>USA</td>\n",
       "      <td>884</td>\n",
       "      <td>1784</td>\n",
       "      <td>2699</td>\n",
       "      <td>3630</td>\n",
       "      <td>...</td>\n",
       "      <td>4567</td>\n",
       "      <td>5519</td>\n",
       "      <td>6479</td>\n",
       "      <td>7498</td>\n",
       "      <td>304</td>\n",
       "      <td>7962</td>\n",
       "      <td>8</td>\n",
       "      <td>8</td>\n",
       "      <td>8</td>\n",
       "      <td>2015</td>\n",
       "    </tr>\n",
       "    <tr>\n",
       "      <th>10</th>\n",
       "      <td>Tegenkamp, Matt</td>\n",
       "      <td>33</td>\n",
       "      <td>M</td>\n",
       "      <td>Portland</td>\n",
       "      <td>OR</td>\n",
       "      <td>USA</td>\n",
       "      <td>886</td>\n",
       "      <td>1790</td>\n",
       "      <td>2733</td>\n",
       "      <td>3680</td>\n",
       "      <td>...</td>\n",
       "      <td>4628</td>\n",
       "      <td>5592</td>\n",
       "      <td>6592</td>\n",
       "      <td>7615</td>\n",
       "      <td>307</td>\n",
       "      <td>8032</td>\n",
       "      <td>11</td>\n",
       "      <td>11</td>\n",
       "      <td>11</td>\n",
       "      <td>2015</td>\n",
       "    </tr>\n",
       "  </tbody>\n",
       "</table>\n",
       "<p>3 rows × 21 columns</p>\n",
       "</div>"
      ],
      "text/plain": [
       "                  Name  Age M/F       City State Country   5K   10K   15K  \\\n",
       "6   Ritzenhein, Dathan   32   M   Rockford    MI     USA  885  1785  2720   \n",
       "7      Keflezighi, Meb   39   M  San Diego    CA     USA  884  1784  2699   \n",
       "10     Tegenkamp, Matt   33   M   Portland    OR     USA  886  1790  2733   \n",
       "\n",
       "     20K  ...   25K   30K   35K   40K  Pace  Official Time  Overall  Gender  \\\n",
       "6   3643  ...  4565  5519  6486  7445   301           7880        7       7   \n",
       "7   3630  ...  4567  5519  6479  7498   304           7962        8       8   \n",
       "10  3680  ...  4628  5592  6592  7615   307           8032       11      11   \n",
       "\n",
       "    Division  Year  \n",
       "6          7  2015  \n",
       "7          8  2015  \n",
       "10        11  2015  \n",
       "\n",
       "[3 rows x 21 columns]"
      ]
     },
     "execution_count": 191,
     "metadata": {},
     "output_type": "execute_result"
    }
   ],
   "source": [
    "print(USA_runner.shape)\n",
    "USA_runner.head(3)"
   ]
  },
  {
   "cell_type": "code",
   "execution_count": 192,
   "metadata": {},
   "outputs": [],
   "source": [
    "# 남녀 구분해서 데이터 저장\n",
    "USA_MALE_runner = USA_runner[USA_runner['M/F'] == 'M']\n",
    "USA_FEMALE_runner = USA_runner[USA_runner['M/F'] == 'F']"
   ]
  },
  {
   "cell_type": "code",
   "execution_count": 193,
   "metadata": {},
   "outputs": [
    {
     "data": {
      "text/html": [
       "<div>\n",
       "<style scoped>\n",
       "    .dataframe tbody tr th:only-of-type {\n",
       "        vertical-align: middle;\n",
       "    }\n",
       "\n",
       "    .dataframe tbody tr th {\n",
       "        vertical-align: top;\n",
       "    }\n",
       "\n",
       "    .dataframe thead th {\n",
       "        text-align: right;\n",
       "    }\n",
       "</style>\n",
       "<table border=\"1\" class=\"dataframe\">\n",
       "  <thead>\n",
       "    <tr style=\"text-align: right;\">\n",
       "      <th></th>\n",
       "      <th>Name</th>\n",
       "      <th>Age</th>\n",
       "      <th>M/F</th>\n",
       "      <th>City</th>\n",
       "      <th>State</th>\n",
       "      <th>Country</th>\n",
       "      <th>5K</th>\n",
       "      <th>10K</th>\n",
       "      <th>15K</th>\n",
       "      <th>20K</th>\n",
       "      <th>...</th>\n",
       "      <th>25K</th>\n",
       "      <th>30K</th>\n",
       "      <th>35K</th>\n",
       "      <th>40K</th>\n",
       "      <th>Pace</th>\n",
       "      <th>Official Time</th>\n",
       "      <th>Overall</th>\n",
       "      <th>Gender</th>\n",
       "      <th>Division</th>\n",
       "      <th>Year</th>\n",
       "    </tr>\n",
       "  </thead>\n",
       "  <tbody>\n",
       "    <tr>\n",
       "      <th>6</th>\n",
       "      <td>Ritzenhein, Dathan</td>\n",
       "      <td>32</td>\n",
       "      <td>M</td>\n",
       "      <td>Rockford</td>\n",
       "      <td>MI</td>\n",
       "      <td>USA</td>\n",
       "      <td>885</td>\n",
       "      <td>1785</td>\n",
       "      <td>2720</td>\n",
       "      <td>3643</td>\n",
       "      <td>...</td>\n",
       "      <td>4565</td>\n",
       "      <td>5519</td>\n",
       "      <td>6486</td>\n",
       "      <td>7445</td>\n",
       "      <td>301</td>\n",
       "      <td>7880</td>\n",
       "      <td>7</td>\n",
       "      <td>7</td>\n",
       "      <td>7</td>\n",
       "      <td>2015</td>\n",
       "    </tr>\n",
       "    <tr>\n",
       "      <th>7</th>\n",
       "      <td>Keflezighi, Meb</td>\n",
       "      <td>39</td>\n",
       "      <td>M</td>\n",
       "      <td>San Diego</td>\n",
       "      <td>CA</td>\n",
       "      <td>USA</td>\n",
       "      <td>884</td>\n",
       "      <td>1784</td>\n",
       "      <td>2699</td>\n",
       "      <td>3630</td>\n",
       "      <td>...</td>\n",
       "      <td>4567</td>\n",
       "      <td>5519</td>\n",
       "      <td>6479</td>\n",
       "      <td>7498</td>\n",
       "      <td>304</td>\n",
       "      <td>7962</td>\n",
       "      <td>8</td>\n",
       "      <td>8</td>\n",
       "      <td>8</td>\n",
       "      <td>2015</td>\n",
       "    </tr>\n",
       "    <tr>\n",
       "      <th>10</th>\n",
       "      <td>Tegenkamp, Matt</td>\n",
       "      <td>33</td>\n",
       "      <td>M</td>\n",
       "      <td>Portland</td>\n",
       "      <td>OR</td>\n",
       "      <td>USA</td>\n",
       "      <td>886</td>\n",
       "      <td>1790</td>\n",
       "      <td>2733</td>\n",
       "      <td>3680</td>\n",
       "      <td>...</td>\n",
       "      <td>4628</td>\n",
       "      <td>5592</td>\n",
       "      <td>6592</td>\n",
       "      <td>7615</td>\n",
       "      <td>307</td>\n",
       "      <td>8032</td>\n",
       "      <td>11</td>\n",
       "      <td>11</td>\n",
       "      <td>11</td>\n",
       "      <td>2015</td>\n",
       "    </tr>\n",
       "  </tbody>\n",
       "</table>\n",
       "<p>3 rows × 21 columns</p>\n",
       "</div>"
      ],
      "text/plain": [
       "                  Name  Age M/F       City State Country   5K   10K   15K  \\\n",
       "6   Ritzenhein, Dathan   32   M   Rockford    MI     USA  885  1785  2720   \n",
       "7      Keflezighi, Meb   39   M  San Diego    CA     USA  884  1784  2699   \n",
       "10     Tegenkamp, Matt   33   M   Portland    OR     USA  886  1790  2733   \n",
       "\n",
       "     20K  ...   25K   30K   35K   40K  Pace  Official Time  Overall  Gender  \\\n",
       "6   3643  ...  4565  5519  6486  7445   301           7880        7       7   \n",
       "7   3630  ...  4567  5519  6479  7498   304           7962        8       8   \n",
       "10  3680  ...  4628  5592  6592  7615   307           8032       11      11   \n",
       "\n",
       "    Division  Year  \n",
       "6          7  2015  \n",
       "7          8  2015  \n",
       "10        11  2015  \n",
       "\n",
       "[3 rows x 21 columns]"
      ]
     },
     "execution_count": 193,
     "metadata": {},
     "output_type": "execute_result"
    }
   ],
   "source": [
    "USA_MALE_runner.head(3)"
   ]
  },
  {
   "cell_type": "code",
   "execution_count": 194,
   "metadata": {},
   "outputs": [
    {
     "data": {
      "text/plain": [
       "<matplotlib.axes._subplots.AxesSubplot at 0x210c14d7730>"
      ]
     },
     "execution_count": 194,
     "metadata": {},
     "output_type": "execute_result"
    },
    {
     "data": {
      "image/png": "[encoded data removed]",
      "text/plain": [
       "<Figure size 720x360 with 1 Axes>"
      ]
     },
     "metadata": {},
     "output_type": "display_data"
    }
   ],
   "source": [
    "# figure size 정하기\n",
    "plt.figure(figsize=(10, 5))\n",
    "\n",
    "# 씨본의 스타일 지정\n",
    "# 참고 : https://seaborn.pydata.org/generated/seaborn.set.html?highlight=set#seaborn.set\n",
    "sns.set(style='darkgrid', palette = 'pastel') # style = \"ticks\", \"whitegrid\"   / palette = \"pastel\", \"Set3\"\n",
    "\n",
    "# 박스플롯 그리기(기준 컬럼 : 'M/F', 'Pace')\n",
    "sns.boxplot(x='M/F', y=\"Pace\", palette=['b', 'r'], data=USA_runner)"
   ]
  },
  {
   "cell_type": "markdown",
   "metadata": {},
   "source": [
    "### 실제 통계치 확인"
   ]
  },
  {
   "cell_type": "code",
   "execution_count": 195,
   "metadata": {},
   "outputs": [
    {
     "data": {
      "text/plain": [
       "count    33390.00000\n",
       "mean       514.22944\n",
       "std         97.99571\n",
       "min        298.00000\n",
       "25%        442.00000\n",
       "50%        495.00000\n",
       "75%        566.00000\n",
       "max       1157.00000\n",
       "Name: Pace, dtype: float64"
      ]
     },
     "execution_count": 195,
     "metadata": {},
     "output_type": "execute_result"
    }
   ],
   "source": [
    "USA_MALE_runner_stat = USA_MALE_runner['Pace'].describe()\n",
    "USA_MALE_runner_stat"
   ]
  },
  {
   "cell_type": "code",
   "execution_count": 196,
   "metadata": {},
   "outputs": [
    {
     "data": {
      "text/plain": [
       "count    31084.000000\n",
       "mean       561.858448\n",
       "std         88.425649\n",
       "min        328.000000\n",
       "25%        499.000000\n",
       "50%        541.000000\n",
       "75%        607.000000\n",
       "max       1470.000000\n",
       "Name: Pace, dtype: float64"
      ]
     },
     "execution_count": 196,
     "metadata": {},
     "output_type": "execute_result"
    }
   ],
   "source": [
    "USA_FEMALE_runner_stat = USA_FEMALE_runner['Pace'].describe()\n",
    "USA_FEMALE_runner_stat"
   ]
  },
  {
   "cell_type": "markdown",
   "metadata": {},
   "source": [
    "# 10. Geo chart with Folium"
   ]
  },
  {
   "cell_type": "code",
   "execution_count": null,
   "metadata": {},
   "outputs": [],
   "source": [
    "# pip install folium(실제 지도위에 그리는거)"
   ]
  },
  {
   "cell_type": "raw",
   "metadata": {},
   "source": [
    "목표 : 2017년 마라톤 데이터를 지도 상에 찍어보자\n",
    "\n",
    "folium을 이용해보자"
   ]
  },
  {
   "cell_type": "code",
   "execution_count": 152,
   "metadata": {},
   "outputs": [],
   "source": [
    "# 참고 : https://youtu.be/Jt9nycjTGZs"
   ]
  },
  {
   "cell_type": "code",
   "execution_count": 197,
   "metadata": {},
   "outputs": [],
   "source": [
    "import pandas as pd\n",
    "\n",
    "marathon_2017 = pd.read_csv('data/marathon_results_2017.csv')"
   ]
  },
  {
   "cell_type": "code",
   "execution_count": 198,
   "metadata": {},
   "outputs": [
    {
     "name": "stdout",
     "output_type": "stream",
     "text": [
      "(26410, 25)\n"
     ]
    },
    {
     "data": {
      "text/html": [
       "<div>\n",
       "<style scoped>\n",
       "    .dataframe tbody tr th:only-of-type {\n",
       "        vertical-align: middle;\n",
       "    }\n",
       "\n",
       "    .dataframe tbody tr th {\n",
       "        vertical-align: top;\n",
       "    }\n",
       "\n",
       "    .dataframe thead th {\n",
       "        text-align: right;\n",
       "    }\n",
       "</style>\n",
       "<table border=\"1\" class=\"dataframe\">\n",
       "  <thead>\n",
       "    <tr style=\"text-align: right;\">\n",
       "      <th></th>\n",
       "      <th>Unnamed: 0</th>\n",
       "      <th>Bib</th>\n",
       "      <th>Name</th>\n",
       "      <th>Age</th>\n",
       "      <th>M/F</th>\n",
       "      <th>City</th>\n",
       "      <th>State</th>\n",
       "      <th>Country</th>\n",
       "      <th>Citizen</th>\n",
       "      <th>Unnamed: 9</th>\n",
       "      <th>...</th>\n",
       "      <th>25K</th>\n",
       "      <th>30K</th>\n",
       "      <th>35K</th>\n",
       "      <th>40K</th>\n",
       "      <th>Pace</th>\n",
       "      <th>Proj Time</th>\n",
       "      <th>Official Time</th>\n",
       "      <th>Overall</th>\n",
       "      <th>Gender</th>\n",
       "      <th>Division</th>\n",
       "    </tr>\n",
       "  </thead>\n",
       "  <tbody>\n",
       "    <tr>\n",
       "      <th>0</th>\n",
       "      <td>0</td>\n",
       "      <td>11</td>\n",
       "      <td>Kirui, Geoffrey</td>\n",
       "      <td>24</td>\n",
       "      <td>M</td>\n",
       "      <td>Keringet</td>\n",
       "      <td>NaN</td>\n",
       "      <td>KEN</td>\n",
       "      <td>NaN</td>\n",
       "      <td>NaN</td>\n",
       "      <td>...</td>\n",
       "      <td>1:16:59</td>\n",
       "      <td>1:33:01</td>\n",
       "      <td>1:48:19</td>\n",
       "      <td>2:02:53</td>\n",
       "      <td>0:04:57</td>\n",
       "      <td>-</td>\n",
       "      <td>2:09:37</td>\n",
       "      <td>1</td>\n",
       "      <td>1</td>\n",
       "      <td>1</td>\n",
       "    </tr>\n",
       "    <tr>\n",
       "      <th>1</th>\n",
       "      <td>1</td>\n",
       "      <td>17</td>\n",
       "      <td>Rupp, Galen</td>\n",
       "      <td>30</td>\n",
       "      <td>M</td>\n",
       "      <td>Portland</td>\n",
       "      <td>OR</td>\n",
       "      <td>USA</td>\n",
       "      <td>NaN</td>\n",
       "      <td>NaN</td>\n",
       "      <td>...</td>\n",
       "      <td>1:16:59</td>\n",
       "      <td>1:33:01</td>\n",
       "      <td>1:48:19</td>\n",
       "      <td>2:03:14</td>\n",
       "      <td>0:04:58</td>\n",
       "      <td>-</td>\n",
       "      <td>2:09:58</td>\n",
       "      <td>2</td>\n",
       "      <td>2</td>\n",
       "      <td>2</td>\n",
       "    </tr>\n",
       "    <tr>\n",
       "      <th>2</th>\n",
       "      <td>2</td>\n",
       "      <td>23</td>\n",
       "      <td>Osako, Suguru</td>\n",
       "      <td>25</td>\n",
       "      <td>M</td>\n",
       "      <td>Machida-City</td>\n",
       "      <td>NaN</td>\n",
       "      <td>JPN</td>\n",
       "      <td>NaN</td>\n",
       "      <td>NaN</td>\n",
       "      <td>...</td>\n",
       "      <td>1:17:00</td>\n",
       "      <td>1:33:01</td>\n",
       "      <td>1:48:31</td>\n",
       "      <td>2:03:38</td>\n",
       "      <td>0:04:59</td>\n",
       "      <td>-</td>\n",
       "      <td>2:10:28</td>\n",
       "      <td>3</td>\n",
       "      <td>3</td>\n",
       "      <td>3</td>\n",
       "    </tr>\n",
       "    <tr>\n",
       "      <th>3</th>\n",
       "      <td>3</td>\n",
       "      <td>21</td>\n",
       "      <td>Biwott, Shadrack</td>\n",
       "      <td>32</td>\n",
       "      <td>M</td>\n",
       "      <td>Mammoth Lakes</td>\n",
       "      <td>CA</td>\n",
       "      <td>USA</td>\n",
       "      <td>NaN</td>\n",
       "      <td>NaN</td>\n",
       "      <td>...</td>\n",
       "      <td>1:17:00</td>\n",
       "      <td>1:33:01</td>\n",
       "      <td>1:48:58</td>\n",
       "      <td>2:04:35</td>\n",
       "      <td>0:05:03</td>\n",
       "      <td>-</td>\n",
       "      <td>2:12:08</td>\n",
       "      <td>4</td>\n",
       "      <td>4</td>\n",
       "      <td>4</td>\n",
       "    </tr>\n",
       "    <tr>\n",
       "      <th>4</th>\n",
       "      <td>4</td>\n",
       "      <td>9</td>\n",
       "      <td>Chebet, Wilson</td>\n",
       "      <td>31</td>\n",
       "      <td>M</td>\n",
       "      <td>Marakwet</td>\n",
       "      <td>NaN</td>\n",
       "      <td>KEN</td>\n",
       "      <td>NaN</td>\n",
       "      <td>NaN</td>\n",
       "      <td>...</td>\n",
       "      <td>1:16:59</td>\n",
       "      <td>1:33:01</td>\n",
       "      <td>1:48:41</td>\n",
       "      <td>2:05:00</td>\n",
       "      <td>0:05:04</td>\n",
       "      <td>-</td>\n",
       "      <td>2:12:35</td>\n",
       "      <td>5</td>\n",
       "      <td>5</td>\n",
       "      <td>5</td>\n",
       "    </tr>\n",
       "  </tbody>\n",
       "</table>\n",
       "<p>5 rows × 25 columns</p>\n",
       "</div>"
      ],
      "text/plain": [
       "   Unnamed: 0 Bib              Name  Age M/F           City State Country  \\\n",
       "0           0  11   Kirui, Geoffrey   24   M       Keringet   NaN     KEN   \n",
       "1           1  17       Rupp, Galen   30   M       Portland    OR     USA   \n",
       "2           2  23     Osako, Suguru   25   M   Machida-City   NaN     JPN   \n",
       "3           3  21  Biwott, Shadrack   32   M  Mammoth Lakes    CA     USA   \n",
       "4           4   9    Chebet, Wilson   31   M       Marakwet   NaN     KEN   \n",
       "\n",
       "  Citizen Unnamed: 9  ...      25K      30K      35K      40K     Pace  \\\n",
       "0     NaN        NaN  ...  1:16:59  1:33:01  1:48:19  2:02:53  0:04:57   \n",
       "1     NaN        NaN  ...  1:16:59  1:33:01  1:48:19  2:03:14  0:04:58   \n",
       "2     NaN        NaN  ...  1:17:00  1:33:01  1:48:31  2:03:38  0:04:59   \n",
       "3     NaN        NaN  ...  1:17:00  1:33:01  1:48:58  2:04:35  0:05:03   \n",
       "4     NaN        NaN  ...  1:16:59  1:33:01  1:48:41  2:05:00  0:05:04   \n",
       "\n",
       "  Proj Time Official Time Overall Gender Division  \n",
       "0         -       2:09:37       1      1        1  \n",
       "1         -       2:09:58       2      2        2  \n",
       "2         -       2:10:28       3      3        3  \n",
       "3         -       2:12:08       4      4        4  \n",
       "4         -       2:12:35       5      5        5  \n",
       "\n",
       "[5 rows x 25 columns]"
      ]
     },
     "execution_count": 198,
     "metadata": {},
     "output_type": "execute_result"
    }
   ],
   "source": [
    "print(marathon_results_2017.shape)\n",
    "marathon_2017.head(5)"
   ]
  },
  {
   "cell_type": "code",
   "execution_count": 170,
   "metadata": {},
   "outputs": [],
   "source": [
    "## 시간 데이터 object형태를 int형태로 바꿔준다."
   ]
  },
  {
   "cell_type": "raw",
   "metadata": {},
   "source": [
    "# for문 사용 안하는 방식\n",
    "marathon_2017['5K'] = pd.to_timedelta(marathon_2017['5K']).astype('m8[s]').astype(np.int64)\n",
    "marathon_2017['15K'] = pd.to_timedelta(marathon_2017['15K']).astype('m8[s]').astype(np.int64)\n",
    "marathon_2017['20K'] = pd.to_timedelta(marathon_2017['20K']).astype('m8[s]').astype(np.int64)\n",
    "marathon_2017['25K'] = pd.to_timedelta(marathon_2017['25K']).astype('m8[s]').astype(np.int64)\n",
    "marathon_2017['Half'] = pd.to_timedelta(marathon_2017['Half']).astype('m8[s]').astype(np.int64)\n",
    "marathon_2017['30K'] = pd.to_timedelta(marathon_2017['30K']).astype('m8[s]').astype(np.int64)\n",
    "marathon_2017['35K'] = pd.to_timedelta(marathon_2017['35K']).astype('m8[s]').astype(np.int64)\n",
    "marathon_2017['40K'] = pd.to_timedelta(marathon_2017['40K']).astype('m8[s]').astype(np.int64)\n",
    "marathon_2017['Pace'] = pd.to_timedelta(marathon_2017['Pace']).astype('m8[s]').astype(np.int64)\n",
    "marathon_2017['Official Time'] = pd.to_timedelta(marathon_2017['Official Time']).astype('m8[s]').astype(np.int64)"
   ]
  },
  {
   "cell_type": "code",
   "execution_count": 199,
   "metadata": {},
   "outputs": [],
   "source": [
    "import numpy as np \n",
    "\n",
    "# pd.to_timedelt() 적용하기\n",
    "# .astype('m8[s]').astype(np.int64) 적용하기 : 초 단위로 바꾼 후, int 형태로 변환\n",
    "\n",
    "points = ['5K', '10K', '15K', '20K', 'Half', '25K', '30K', '35K', '40K', 'Pace', 'Official Time']\n",
    "for point in points:\n",
    "    marathon_2017[point] = pd.to_timedelta(marathon_2017[point]).astype('m8[s]').astype(np.int64)\n"
   ]
  },
  {
   "cell_type": "code",
   "execution_count": 200,
   "metadata": {},
   "outputs": [
    {
     "data": {
      "text/html": [
       "<div>\n",
       "<style scoped>\n",
       "    .dataframe tbody tr th:only-of-type {\n",
       "        vertical-align: middle;\n",
       "    }\n",
       "\n",
       "    .dataframe tbody tr th {\n",
       "        vertical-align: top;\n",
       "    }\n",
       "\n",
       "    .dataframe thead th {\n",
       "        text-align: right;\n",
       "    }\n",
       "</style>\n",
       "<table border=\"1\" class=\"dataframe\">\n",
       "  <thead>\n",
       "    <tr style=\"text-align: right;\">\n",
       "      <th></th>\n",
       "      <th>10K</th>\n",
       "      <th>15K</th>\n",
       "      <th>20K</th>\n",
       "      <th>Half</th>\n",
       "      <th>25K</th>\n",
       "      <th>30K</th>\n",
       "      <th>35K</th>\n",
       "      <th>40K</th>\n",
       "      <th>Pace</th>\n",
       "    </tr>\n",
       "  </thead>\n",
       "  <tbody>\n",
       "    <tr>\n",
       "      <th>0</th>\n",
       "      <td>1828</td>\n",
       "      <td>2744</td>\n",
       "      <td>3675</td>\n",
       "      <td>3875</td>\n",
       "      <td>4619</td>\n",
       "      <td>5581</td>\n",
       "      <td>6499</td>\n",
       "      <td>7373</td>\n",
       "      <td>297</td>\n",
       "    </tr>\n",
       "    <tr>\n",
       "      <th>1</th>\n",
       "      <td>1827</td>\n",
       "      <td>2744</td>\n",
       "      <td>3675</td>\n",
       "      <td>3875</td>\n",
       "      <td>4619</td>\n",
       "      <td>5581</td>\n",
       "      <td>6499</td>\n",
       "      <td>7394</td>\n",
       "      <td>298</td>\n",
       "    </tr>\n",
       "    <tr>\n",
       "      <th>2</th>\n",
       "      <td>1829</td>\n",
       "      <td>2744</td>\n",
       "      <td>3676</td>\n",
       "      <td>3876</td>\n",
       "      <td>4620</td>\n",
       "      <td>5581</td>\n",
       "      <td>6511</td>\n",
       "      <td>7418</td>\n",
       "      <td>299</td>\n",
       "    </tr>\n",
       "  </tbody>\n",
       "</table>\n",
       "</div>"
      ],
      "text/plain": [
       "    10K   15K   20K  Half   25K   30K   35K   40K  Pace\n",
       "0  1828  2744  3675  3875  4619  5581  6499  7373   297\n",
       "1  1827  2744  3675  3875  4619  5581  6499  7394   298\n",
       "2  1829  2744  3676  3876  4620  5581  6511  7418   299"
      ]
     },
     "execution_count": 200,
     "metadata": {},
     "output_type": "execute_result"
    }
   ],
   "source": [
    "# 시간 데이터가 int 형태로 바뀌었는지 확인\n",
    "marathon_2017.loc[:, '10K':'Pace'].head(3)"
   ]
  },
  {
   "cell_type": "code",
   "execution_count": 201,
   "metadata": {},
   "outputs": [],
   "source": [
    "# 참가자별 위치 파악하기\n",
    "check_time = 7200    # 2시간\n",
    "Lat = 0\n",
    "Long = 0\n",
    "Location = ''\n",
    "\n",
    "# 5K, 10K, 15K, 20K, 25K, 30K, 35K, 40K\n",
    "points = [[42.247835,-71.474357], [42.274032,-71.423979], [42.282364,-71.364801], [42.297870,-71.284260],\n",
    "          [42.324830,-71.259660], [42.345680,-71.215169], [42.352089,-71.124947], [42.351510,-71.086980]]"
   ]
  },
  {
   "cell_type": "code",
   "execution_count": 202,
   "metadata": {},
   "outputs": [],
   "source": [
    "# 26000개 행을 돌면서 위치가 어디인지 판단한다.\n",
    "# iterrows() : 각각의 행을 돌아라는 뜻\n",
    "marathon_location = pd.DataFrame(columns=['Lat','Long']) # 빈 df를 만들어두고,\n",
    "\n",
    "# 각 행을 돌면서 Lat, Long 값을 넣어준다.\n",
    "for index, record in marathon_2017.iterrows():\n",
    "    if (record['40K'] < check_time):\n",
    "        Lat = points[7][0]\n",
    "        Long = points[7][1]\n",
    "    elif (record['35K'] < check_time):\n",
    "        Lat = points[6][0]\n",
    "        Long = points[6][1]\n",
    "    elif (record['30K'] < check_time):\n",
    "        Lat = points[5][0]\n",
    "        Long = points[5][1]\n",
    "    elif (record['25K'] < check_time):\n",
    "        Lat = points[4][0]\n",
    "        Long = points[4][1]\n",
    "    elif (record['20K'] < check_time):\n",
    "        Lat = points[3][0]\n",
    "        Long = points[3][1]\n",
    "    elif (record['15K'] < check_time):\n",
    "        Lat = points[2][0]\n",
    "        Long = points[2][1]\n",
    "    elif (record['10K'] < check_time):\n",
    "        Lat = points[1][0]\n",
    "        Long = points[1][1]\n",
    "    elif (record['5K'] < check_time):\n",
    "        Lat = points[0][0]\n",
    "        Long = points[0][1]\n",
    "    else:    \n",
    "        Lat = points[0][0]\n",
    "        Long = points[0][1]\n",
    "    marathon_location = marathon_location.append({'Lat' : Lat, 'Long' : Long}, ignore_index=True)"
   ]
  },
  {
   "cell_type": "code",
   "execution_count": 203,
   "metadata": {},
   "outputs": [
    {
     "name": "stdout",
     "output_type": "stream",
     "text": [
      "(26410, 2)\n"
     ]
    },
    {
     "data": {
      "text/html": [
       "<div>\n",
       "<style scoped>\n",
       "    .dataframe tbody tr th:only-of-type {\n",
       "        vertical-align: middle;\n",
       "    }\n",
       "\n",
       "    .dataframe tbody tr th {\n",
       "        vertical-align: top;\n",
       "    }\n",
       "\n",
       "    .dataframe thead th {\n",
       "        text-align: right;\n",
       "    }\n",
       "</style>\n",
       "<table border=\"1\" class=\"dataframe\">\n",
       "  <thead>\n",
       "    <tr style=\"text-align: right;\">\n",
       "      <th></th>\n",
       "      <th>Lat</th>\n",
       "      <th>Long</th>\n",
       "    </tr>\n",
       "  </thead>\n",
       "  <tbody>\n",
       "    <tr>\n",
       "      <th>0</th>\n",
       "      <td>42.352089</td>\n",
       "      <td>-71.124947</td>\n",
       "    </tr>\n",
       "    <tr>\n",
       "      <th>1</th>\n",
       "      <td>42.352089</td>\n",
       "      <td>-71.124947</td>\n",
       "    </tr>\n",
       "    <tr>\n",
       "      <th>2</th>\n",
       "      <td>42.352089</td>\n",
       "      <td>-71.124947</td>\n",
       "    </tr>\n",
       "  </tbody>\n",
       "</table>\n",
       "</div>"
      ],
      "text/plain": [
       "         Lat       Long\n",
       "0  42.352089 -71.124947\n",
       "1  42.352089 -71.124947\n",
       "2  42.352089 -71.124947"
      ]
     },
     "execution_count": 203,
     "metadata": {},
     "output_type": "execute_result"
    }
   ],
   "source": [
    "print(marathon_location.shape)\n",
    "marathon_location.head(3)"
   ]
  },
  {
   "cell_type": "markdown",
   "metadata": {},
   "source": [
    "### points 별로 카운트해서 그룹지어 주기"
   ]
  },
  {
   "cell_type": "code",
   "execution_count": 204,
   "metadata": {},
   "outputs": [],
   "source": [
    "# 'Count'라는 컬럼 추가하기\n",
    "marathon_count = marathon_location.groupby(['Lat', 'Long']).size().reset_index(name='Count')"
   ]
  },
  {
   "cell_type": "code",
   "execution_count": 205,
   "metadata": {},
   "outputs": [
    {
     "data": {
      "text/html": [
       "<div>\n",
       "<style scoped>\n",
       "    .dataframe tbody tr th:only-of-type {\n",
       "        vertical-align: middle;\n",
       "    }\n",
       "\n",
       "    .dataframe tbody tr th {\n",
       "        vertical-align: top;\n",
       "    }\n",
       "\n",
       "    .dataframe thead th {\n",
       "        text-align: right;\n",
       "    }\n",
       "</style>\n",
       "<table border=\"1\" class=\"dataframe\">\n",
       "  <thead>\n",
       "    <tr style=\"text-align: right;\">\n",
       "      <th></th>\n",
       "      <th>Lat</th>\n",
       "      <th>Long</th>\n",
       "      <th>Count</th>\n",
       "    </tr>\n",
       "  </thead>\n",
       "  <tbody>\n",
       "    <tr>\n",
       "      <th>0</th>\n",
       "      <td>42.274032</td>\n",
       "      <td>-71.423979</td>\n",
       "      <td>49</td>\n",
       "    </tr>\n",
       "    <tr>\n",
       "      <th>1</th>\n",
       "      <td>42.282364</td>\n",
       "      <td>-71.364801</td>\n",
       "      <td>4435</td>\n",
       "    </tr>\n",
       "    <tr>\n",
       "      <th>2</th>\n",
       "      <td>42.297870</td>\n",
       "      <td>-71.284260</td>\n",
       "      <td>13866</td>\n",
       "    </tr>\n",
       "    <tr>\n",
       "      <th>3</th>\n",
       "      <td>42.324830</td>\n",
       "      <td>-71.259660</td>\n",
       "      <td>7261</td>\n",
       "    </tr>\n",
       "    <tr>\n",
       "      <th>4</th>\n",
       "      <td>42.345680</td>\n",
       "      <td>-71.215169</td>\n",
       "      <td>737</td>\n",
       "    </tr>\n",
       "    <tr>\n",
       "      <th>5</th>\n",
       "      <td>42.351510</td>\n",
       "      <td>-71.086980</td>\n",
       "      <td>6</td>\n",
       "    </tr>\n",
       "    <tr>\n",
       "      <th>6</th>\n",
       "      <td>42.352089</td>\n",
       "      <td>-71.124947</td>\n",
       "      <td>56</td>\n",
       "    </tr>\n",
       "  </tbody>\n",
       "</table>\n",
       "</div>"
      ],
      "text/plain": [
       "         Lat       Long  Count\n",
       "0  42.274032 -71.423979     49\n",
       "1  42.282364 -71.364801   4435\n",
       "2  42.297870 -71.284260  13866\n",
       "3  42.324830 -71.259660   7261\n",
       "4  42.345680 -71.215169    737\n",
       "5  42.351510 -71.086980      6\n",
       "6  42.352089 -71.124947     56"
      ]
     },
     "execution_count": 205,
     "metadata": {},
     "output_type": "execute_result"
    }
   ],
   "source": [
    "# 7개 지역에 사람들의 분포를 확인 가능하다\n",
    "marathon_count"
   ]
  },
  {
   "cell_type": "code",
   "execution_count": 208,
   "metadata": {},
   "outputs": [
    {
     "data": {
      "image/png": "[encoded data removed]",
      "text/plain": [
       "<Figure size 1800x720 with 1 Axes>"
      ]
     },
     "metadata": {},
     "output_type": "display_data"
    }
   ],
   "source": [
    "import matplotlib.pyplot as plt\n",
    "\n",
    "# figure size 지정\n",
    "plt.figure(figsize=(25, 10))\n",
    "\n",
    "# scatter chart 적용\n",
    "plt.scatter(marathon_count.Lat, marathon_count.Long, s=marathon_count.Count, alpha=0.5)\n",
    "\n",
    "# 타이틀, 라벨 달기\n",
    "plt.title('Runners location at 2nd hours')\n",
    "plt.xlabel('Latitude')\n",
    "plt.ylabel('Longitude')\n",
    "\n",
    "# 위치 별 Count값 넣기\n",
    "for i, txt in enumerate(marathon_count.Count):\n",
    "    plt.annotate(txt, (marathon_count.Lat[i], marathon_count.Long[i]), fontsize=18)\n",
    "\n",
    "plt.show()"
   ]
  },
  {
   "cell_type": "markdown",
   "metadata": {},
   "source": [
    "## Folium을 이용해서 지도 위에 그리기"
   ]
  },
  {
   "cell_type": "code",
   "execution_count": 207,
   "metadata": {},
   "outputs": [
    {
     "data": {
      "text/html": [
       "<div style=\"width:100%;\"><div style=\"position:relative;width:100%;height:0;padding-bottom:60%;\"><span style=\"color:#565656\">Make this Notebook Trusted to load map: File -> Trust Notebook</span><iframe src=\"about:blank\" style=\"position:absolute;width:100%;height:100%;left:0;top:0;border:none !important;\" data-html=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 onload=\"this.contentDocument.open();this.contentDocument.write(atob(this.getAttribute('data-html')));this.contentDocument.close();\" allowfullscreen webkitallowfullscreen mozallowfullscreen></iframe></div></div>"
      ],
      "text/plain": [
       "<folium.folium.Map at 0x210c15e5ee0>"
      ]
     },
     "execution_count": 207,
     "metadata": {},
     "output_type": "execute_result"
    }
   ],
   "source": [
    "import folium\n",
    "from folium.plugins import HeatMap  # 지도 위에 heatmap 표시하기\n",
    "\n",
    "# Folium marathon map 그리기\n",
    "marathon_map = folium.Map(location=[42.324830, -71.259660],  # 중심 위치(25km 지점으로 세팅함)\n",
    "                         tiles='OpenStreetMap',  # 지도 타일 형태  # tiles='Stamen Toner', 'Stamen Terrain'\n",
    "                         zoom_start=11)          # https://python-graph-gallery.com/288-map-background-with-folium/\n",
    "\n",
    "HeatMap(marathon_count, radius=22).add_to(marathon_map) #radius = 반지름 add_to로 추가. \n",
    "\n",
    "marathon_map"
   ]
  },
  {
   "cell_type": "code",
   "execution_count": null,
   "metadata": {},
   "outputs": [],
   "source": []
  }
 ],
 "metadata": {
  "kernelspec": {
   "display_name": "Python 3",
   "language": "python",
   "name": "python3"
  },
  "language_info": {
   "codemirror_mode": {
    "name": "ipython",
    "version": 3
   },
   "file_extension": ".py",
   "mimetype": "text/x-python",
   "name": "python",
   "nbconvert_exporter": "python",
   "pygments_lexer": "ipython3",
   "version": "3.8.3"
  },
  "varInspector": {
   "cols": {
    "lenName": 16,
    "lenType": 16,
    "lenVar": 40
   },
   "kernels_config": {
    "python": {
     "delete_cmd_postfix": "",
     "delete_cmd_prefix": "del ",
     "library": "var_list.py",
     "varRefreshCmd": "print(var_dic_list())"
    },
    "r": {
     "delete_cmd_postfix": ") ",
     "delete_cmd_prefix": "rm(",
     "library": "var_list.r",
     "varRefreshCmd": "cat(var_dic_list()) "
    }
   },
   "types_to_exclude": [
    "module",
    "function",
    "builtin_function_or_method",
    "instance",
    "_Feature"
   ],
   "window_display": false
  }
 },
 "nbformat": 4,
 "nbformat_minor": 2
}
